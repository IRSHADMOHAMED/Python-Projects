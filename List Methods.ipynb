{
 "cells": [
  {
   "cell_type": "code",
   "execution_count": 1,
   "id": "45b867b9",
   "metadata": {},
   "outputs": [
    {
     "data": {
      "text/plain": [
       "['Avatar',\n",
       " 'Pacific Rim',\n",
       " 'The Golden Compass',\n",
       " 'Monsters University',\n",
       " 'X-Men:The Last Stand']"
      ]
     },
     "execution_count": 1,
     "metadata": {},
     "output_type": "execute_result"
    }
   ],
   "source": [
    "movies_list=[\"Avatar\",\"Pacific Rim\",\"The Golden Compass\",\"Monsters University\",\"X-Men:The Last Stand\"]\n",
    "movies_list"
   ]
  },
  {
   "cell_type": "code",
   "execution_count": 2,
   "id": "09d320be",
   "metadata": {},
   "outputs": [
    {
     "ename": "IndexError",
     "evalue": "list assignment index out of range",
     "output_type": "error",
     "traceback": [
      "\u001b[1;31m---------------------------------------------------------------------------\u001b[0m",
      "\u001b[1;31mIndexError\u001b[0m                                Traceback (most recent call last)",
      "Input \u001b[1;32mIn [2]\u001b[0m, in \u001b[0;36m<cell line: 1>\u001b[1;34m()\u001b[0m\n\u001b[1;32m----> 1\u001b[0m movies_list[\u001b[38;5;241m5\u001b[39m]\u001b[38;5;241m=\u001b[39m\u001b[38;5;124m\"\u001b[39m\u001b[38;5;124mThe Amazing Spider-Man 2\u001b[39m\u001b[38;5;124m\"\u001b[39m\n\u001b[0;32m      2\u001b[0m movies_list\n",
      "\u001b[1;31mIndexError\u001b[0m: list assignment index out of range"
     ]
    }
   ],
   "source": [
    "movies_list[5]=\"The Amazing Spider-Man 2\"\n",
    "movies_list"
   ]
  },
  {
   "cell_type": "code",
   "execution_count": 20,
   "id": "c7417d2e",
   "metadata": {},
   "outputs": [
    {
     "data": {
      "text/plain": [
       "[' The Amazing Spider Man 2',\n",
       " 'The Legend of Tarzan',\n",
       " 'Avatar',\n",
       " 'Evan Almighty',\n",
       " 'Monsters University',\n",
       " 'Pacific Rim',\n",
       " 'The Golden Compass',\n",
       " 'The Legend of Tarzan',\n",
       " 'X-Men:The Last Stand',\n",
       " 'king kong',\n",
       " 'The Amazing Spider Man 2',\n",
       " 'The Amazing Spider Man 2']"
      ]
     },
     "execution_count": 20,
     "metadata": {},
     "output_type": "execute_result"
    }
   ],
   "source": [
    "movies_list.append(\"The Amazing Spider Man 2\")\n",
    "movies_list\n"
   ]
  },
  {
   "cell_type": "code",
   "execution_count": 19,
   "id": "b46d492a",
   "metadata": {},
   "outputs": [
    {
     "data": {
      "text/plain": [
       "[' The Amazing Spider Man 2',\n",
       " 'The Legend of Tarzan',\n",
       " 'Avatar',\n",
       " 'Evan Almighty',\n",
       " 'Monsters University',\n",
       " 'Pacific Rim',\n",
       " 'The Golden Compass',\n",
       " 'The Legend of Tarzan',\n",
       " 'X-Men:The Last Stand',\n",
       " 'king kong',\n",
       " 'The Amazing Spider Man 2']"
      ]
     },
     "execution_count": 19,
     "metadata": {},
     "output_type": "execute_result"
    }
   ],
   "source": [
    "movies_list.insert(1,\"The Legend of Tarzan\")\n",
    "movies_list"
   ]
  },
  {
   "cell_type": "code",
   "execution_count": 7,
   "id": "61f2ad9c",
   "metadata": {},
   "outputs": [
    {
     "data": {
      "text/plain": [
       "[' The Amazing Spider Man 2',\n",
       " 'X-Men:The Last Stand',\n",
       " 'Monsters University',\n",
       " 'The Golden Compass',\n",
       " 'Pacific Rim',\n",
       " 'The Legend of Tarzan',\n",
       " 'Avatar']"
      ]
     },
     "execution_count": 7,
     "metadata": {},
     "output_type": "execute_result"
    }
   ],
   "source": [
    "movies_list.reverse()\n",
    "movies_list"
   ]
  },
  {
   "cell_type": "code",
   "execution_count": 8,
   "id": "4715515a",
   "metadata": {},
   "outputs": [
    {
     "data": {
      "text/plain": [
       "[' The Amazing Spider Man 2',\n",
       " 'X-Men:The Last Stand',\n",
       " 'Monsters University',\n",
       " 'The Golden Compass',\n",
       " 'Pacific Rim',\n",
       " 'The Legend of Tarzan',\n",
       " 'Avatar',\n",
       " 'king kong',\n",
       " 'Evan Almighty',\n",
       " '47 Ronin']"
      ]
     },
     "execution_count": 8,
     "metadata": {},
     "output_type": "execute_result"
    }
   ],
   "source": [
    "movies_list.extend([\"king kong\",\"Evan Almighty\",\"47 Ronin\"])\n",
    "movies_list"
   ]
  },
  {
   "cell_type": "code",
   "execution_count": 9,
   "id": "73d72bb4",
   "metadata": {},
   "outputs": [
    {
     "data": {
      "text/plain": [
       "[' The Amazing Spider Man 2',\n",
       " 'X-Men:The Last Stand',\n",
       " 'Monsters University',\n",
       " 'The Golden Compass',\n",
       " 'Pacific Rim',\n",
       " 'The Legend of Tarzan',\n",
       " 'Avatar',\n",
       " 'king kong',\n",
       " 'Evan Almighty']"
      ]
     },
     "execution_count": 9,
     "metadata": {},
     "output_type": "execute_result"
    }
   ],
   "source": [
    "movies_list.remove(\"47 Ronin\")\n",
    "movies_list"
   ]
  },
  {
   "cell_type": "code",
   "execution_count": 12,
   "id": "5fc52760",
   "metadata": {},
   "outputs": [
    {
     "ename": "ValueError",
     "evalue": "list.remove(x): x not in list",
     "output_type": "error",
     "traceback": [
      "\u001b[1;31m---------------------------------------------------------------------------\u001b[0m",
      "\u001b[1;31mValueError\u001b[0m                                Traceback (most recent call last)",
      "Input \u001b[1;32mIn [12]\u001b[0m, in \u001b[0;36m<cell line: 1>\u001b[1;34m()\u001b[0m\n\u001b[1;32m----> 1\u001b[0m \u001b[43mmovies_list\u001b[49m\u001b[38;5;241;43m.\u001b[39;49m\u001b[43mremove\u001b[49m\u001b[43m(\u001b[49m\u001b[38;5;124;43m\"\u001b[39;49m\u001b[38;5;124;43mmonstors university\u001b[39;49m\u001b[38;5;124;43m\"\u001b[39;49m\u001b[43m)\u001b[49m\n\u001b[0;32m      2\u001b[0m movies_list\n",
      "\u001b[1;31mValueError\u001b[0m: list.remove(x): x not in list"
     ]
    }
   ],
   "source": [
    "movies_list.remove(\"monstors university\")\n",
    "movies_list"
   ]
  },
  {
   "cell_type": "code",
   "execution_count": 13,
   "id": "0701bf26",
   "metadata": {},
   "outputs": [
    {
     "ename": "ValueError",
     "evalue": "'monstors university' is not in list",
     "output_type": "error",
     "traceback": [
      "\u001b[1;31m---------------------------------------------------------------------------\u001b[0m",
      "\u001b[1;31mValueError\u001b[0m                                Traceback (most recent call last)",
      "Input \u001b[1;32mIn [13]\u001b[0m, in \u001b[0;36m<cell line: 1>\u001b[1;34m()\u001b[0m\n\u001b[1;32m----> 1\u001b[0m \u001b[43mmovies_list\u001b[49m\u001b[38;5;241;43m.\u001b[39;49m\u001b[43mindex\u001b[49m\u001b[43m(\u001b[49m\u001b[38;5;124;43m\"\u001b[39;49m\u001b[38;5;124;43mmonstors university\u001b[39;49m\u001b[38;5;124;43m\"\u001b[39;49m\u001b[43m)\u001b[49m\n",
      "\u001b[1;31mValueError\u001b[0m: 'monstors university' is not in list"
     ]
    }
   ],
   "source": [
    "movies_list.index(\"monstors university\")"
   ]
  },
  {
   "cell_type": "code",
   "execution_count": 15,
   "id": "1b79d2fa",
   "metadata": {},
   "outputs": [
    {
     "data": {
      "text/plain": [
       "2"
      ]
     },
     "execution_count": 15,
     "metadata": {},
     "output_type": "execute_result"
    }
   ],
   "source": [
    "movies_list.index(\"Monsters University\")"
   ]
  },
  {
   "cell_type": "code",
   "execution_count": 17,
   "id": "7a458803",
   "metadata": {},
   "outputs": [
    {
     "data": {
      "text/plain": [
       "[' The Amazing Spider Man 2',\n",
       " 'Avatar',\n",
       " 'Evan Almighty',\n",
       " 'Monsters University',\n",
       " 'Pacific Rim',\n",
       " 'The Golden Compass',\n",
       " 'The Legend of Tarzan',\n",
       " 'X-Men:The Last Stand',\n",
       " 'king kong']"
      ]
     },
     "execution_count": 17,
     "metadata": {},
     "output_type": "execute_result"
    }
   ],
   "source": [
    "movies_list.sort()\n",
    "movies_list"
   ]
  },
  {
   "cell_type": "code",
   "execution_count": 21,
   "id": "933d7958",
   "metadata": {},
   "outputs": [
    {
     "data": {
      "text/plain": [
       "[' The Amazing Spider Man 2',\n",
       " 'The Legend of Tarzan',\n",
       " 'Avatar',\n",
       " 'Evan Almighty',\n",
       " 'Monsters University',\n",
       " 'Pacific Rim',\n",
       " 'The Golden Compass',\n",
       " 'The Legend of Tarzan',\n",
       " 'X-Men:The Last Stand',\n",
       " 'king kong',\n",
       " 'The Amazing Spider Man 2']"
      ]
     },
     "execution_count": 21,
     "metadata": {},
     "output_type": "execute_result"
    }
   ],
   "source": [
    "movies_list.pop()\n",
    "movies_list"
   ]
  },
  {
   "cell_type": "code",
   "execution_count": 22,
   "id": "18f4f086",
   "metadata": {},
   "outputs": [
    {
     "data": {
      "text/plain": [
       "['The Lone Ranger', 'Alice in Wonderland']"
      ]
     },
     "execution_count": 22,
     "metadata": {},
     "output_type": "execute_result"
    }
   ],
   "source": [
    "another_movie_list=list((\"The Lone Ranger\",\"Alice in Wonderland\"))\n",
    "another_movie_list"
   ]
  },
  {
   "cell_type": "code",
   "execution_count": 23,
   "id": "8723a396",
   "metadata": {},
   "outputs": [
    {
     "data": {
      "text/plain": [
       "[' The Amazing Spider Man 2',\n",
       " 'The Legend of Tarzan',\n",
       " 'Avatar',\n",
       " 'Evan Almighty',\n",
       " 'Monsters University',\n",
       " 'Pacific Rim',\n",
       " 'The Golden Compass',\n",
       " 'The Legend of Tarzan',\n",
       " 'X-Men:The Last Stand',\n",
       " 'king kong',\n",
       " 'The Amazing Spider Man 2',\n",
       " 'The Lone Ranger',\n",
       " 'Alice in Wonderland']"
      ]
     },
     "execution_count": 23,
     "metadata": {},
     "output_type": "execute_result"
    }
   ],
   "source": [
    "complete_list=movies_list+another_movie_list\n",
    "complete_list"
   ]
  },
  {
   "cell_type": "code",
   "execution_count": 24,
   "id": "e9fce3cb",
   "metadata": {},
   "outputs": [
    {
     "data": {
      "text/plain": [
       "True"
      ]
     },
     "execution_count": 24,
     "metadata": {},
     "output_type": "execute_result"
    }
   ],
   "source": [
    "\"Pacific Rim\"in complete_list"
   ]
  },
  {
   "cell_type": "code",
   "execution_count": 25,
   "id": "36f986a1",
   "metadata": {},
   "outputs": [
    {
     "data": {
      "text/plain": [
       "False"
      ]
     },
     "execution_count": 25,
     "metadata": {},
     "output_type": "execute_result"
    }
   ],
   "source": [
    "\"avatar\"in complete_list"
   ]
  },
  {
   "cell_type": "code",
   "execution_count": 26,
   "id": "c4ff4117",
   "metadata": {},
   "outputs": [
    {
     "data": {
      "text/plain": [
       "True"
      ]
     },
     "execution_count": 26,
     "metadata": {},
     "output_type": "execute_result"
    }
   ],
   "source": [
    "\"avatar\"not in complete_list"
   ]
  },
  {
   "cell_type": "code",
   "execution_count": 27,
   "id": "06f244c8",
   "metadata": {},
   "outputs": [
    {
     "data": {
      "text/plain": [
       "False"
      ]
     },
     "execution_count": 27,
     "metadata": {},
     "output_type": "execute_result"
    }
   ],
   "source": [
    "\"Avatar\"not in complete_list"
   ]
  },
  {
   "cell_type": "code",
   "execution_count": 28,
   "id": "bc4df888",
   "metadata": {},
   "outputs": [],
   "source": [
    "movies_list.clear()"
   ]
  },
  {
   "cell_type": "code",
   "execution_count": 29,
   "id": "96e9363d",
   "metadata": {},
   "outputs": [
    {
     "data": {
      "text/plain": [
       "[]"
      ]
     },
     "execution_count": 29,
     "metadata": {},
     "output_type": "execute_result"
    }
   ],
   "source": [
    "movies_list"
   ]
  },
  {
   "cell_type": "code",
   "execution_count": 30,
   "id": "421b3795",
   "metadata": {},
   "outputs": [
    {
     "data": {
      "text/plain": [
       "[' The Amazing Spider Man 2',\n",
       " 'The Legend of Tarzan',\n",
       " 'Avatar',\n",
       " 'Evan Almighty',\n",
       " 'Monsters University',\n",
       " 'Pacific Rim',\n",
       " 'The Golden Compass',\n",
       " 'The Legend of Tarzan',\n",
       " 'X-Men:The Last Stand',\n",
       " 'king kong',\n",
       " 'The Amazing Spider Man 2',\n",
       " 'The Lone Ranger',\n",
       " 'Alice in Wonderland']"
      ]
     },
     "execution_count": 30,
     "metadata": {},
     "output_type": "execute_result"
    }
   ],
   "source": [
    "complete_list"
   ]
  },
  {
   "cell_type": "code",
   "execution_count": 32,
   "id": "220894fa",
   "metadata": {},
   "outputs": [
    {
     "ename": "NameError",
     "evalue": "name 'complete_list' is not defined",
     "output_type": "error",
     "traceback": [
      "\u001b[1;31m---------------------------------------------------------------------------\u001b[0m",
      "\u001b[1;31mNameError\u001b[0m                                 Traceback (most recent call last)",
      "Input \u001b[1;32mIn [32]\u001b[0m, in \u001b[0;36m<cell line: 1>\u001b[1;34m()\u001b[0m\n\u001b[1;32m----> 1\u001b[0m \u001b[38;5;28;01mdel\u001b[39;00m complete_list\n\u001b[0;32m      2\u001b[0m complete_list\n",
      "\u001b[1;31mNameError\u001b[0m: name 'complete_list' is not defined"
     ]
    }
   ],
   "source": [
    "del complete_list\n",
    "complete_list"
   ]
  },
  {
   "cell_type": "code",
   "execution_count": 33,
   "id": "0463a83e",
   "metadata": {},
   "outputs": [
    {
     "data": {
      "text/plain": [
       "['The Lone Ranger', 'Alice in Wonderland']"
      ]
     },
     "execution_count": 33,
     "metadata": {},
     "output_type": "execute_result"
    }
   ],
   "source": [
    "another_movie_list"
   ]
  },
  {
   "cell_type": "code",
   "execution_count": 35,
   "id": "0301eb0d",
   "metadata": {},
   "outputs": [
    {
     "ename": "NameError",
     "evalue": "name 'another_movie_list' is not defined",
     "output_type": "error",
     "traceback": [
      "\u001b[1;31m---------------------------------------------------------------------------\u001b[0m",
      "\u001b[1;31mNameError\u001b[0m                                 Traceback (most recent call last)",
      "Input \u001b[1;32mIn [35]\u001b[0m, in \u001b[0;36m<cell line: 1>\u001b[1;34m()\u001b[0m\n\u001b[1;32m----> 1\u001b[0m \u001b[38;5;28;01mdel\u001b[39;00m another_movie_list\n\u001b[0;32m      2\u001b[0m another_movie_list\n",
      "\u001b[1;31mNameError\u001b[0m: name 'another_movie_list' is not defined"
     ]
    }
   ],
   "source": [
    "del another_movie_list\n",
    "another_movie_list"
   ]
  },
  {
   "cell_type": "code",
   "execution_count": null,
   "id": "474fc341",
   "metadata": {},
   "outputs": [],
   "source": []
  },
  {
   "cell_type": "code",
   "execution_count": null,
   "id": "705d0516",
   "metadata": {},
   "outputs": [],
   "source": []
  },
  {
   "cell_type": "code",
   "execution_count": null,
   "id": "e6a0026d",
   "metadata": {},
   "outputs": [],
   "source": []
  },
  {
   "cell_type": "code",
   "execution_count": null,
   "id": "d1d99579",
   "metadata": {},
   "outputs": [],
   "source": []
  },
  {
   "cell_type": "code",
   "execution_count": null,
   "id": "4c8340d2",
   "metadata": {},
   "outputs": [],
   "source": []
  },
  {
   "cell_type": "code",
   "execution_count": null,
   "id": "a9a119f5",
   "metadata": {},
   "outputs": [],
   "source": []
  },
  {
   "cell_type": "code",
   "execution_count": null,
   "id": "6d54704d",
   "metadata": {},
   "outputs": [],
   "source": []
  },
  {
   "cell_type": "code",
   "execution_count": null,
   "id": "f3262763",
   "metadata": {},
   "outputs": [],
   "source": []
  },
  {
   "cell_type": "code",
   "execution_count": null,
   "id": "4b2673b0",
   "metadata": {},
   "outputs": [],
   "source": []
  },
  {
   "cell_type": "code",
   "execution_count": null,
   "id": "90a284b4",
   "metadata": {},
   "outputs": [],
   "source": []
  },
  {
   "cell_type": "code",
   "execution_count": null,
   "id": "3e8f221c",
   "metadata": {},
   "outputs": [],
   "source": []
  },
  {
   "cell_type": "code",
   "execution_count": null,
   "id": "05aaeed2",
   "metadata": {},
   "outputs": [],
   "source": []
  },
  {
   "cell_type": "code",
   "execution_count": null,
   "id": "86689778",
   "metadata": {},
   "outputs": [],
   "source": []
  },
  {
   "cell_type": "code",
   "execution_count": null,
   "id": "22d048c6",
   "metadata": {},
   "outputs": [],
   "source": []
  },
  {
   "cell_type": "code",
   "execution_count": null,
   "id": "18e96110",
   "metadata": {},
   "outputs": [],
   "source": []
  },
  {
   "cell_type": "code",
   "execution_count": null,
   "id": "ff946123",
   "metadata": {},
   "outputs": [],
   "source": []
  },
  {
   "cell_type": "code",
   "execution_count": null,
   "id": "dc750816",
   "metadata": {},
   "outputs": [],
   "source": []
  },
  {
   "cell_type": "code",
   "execution_count": null,
   "id": "57489a69",
   "metadata": {},
   "outputs": [],
   "source": []
  },
  {
   "cell_type": "code",
   "execution_count": null,
   "id": "49e22221",
   "metadata": {},
   "outputs": [],
   "source": []
  },
  {
   "cell_type": "code",
   "execution_count": null,
   "id": "8e1f4fde",
   "metadata": {},
   "outputs": [],
   "source": []
  },
  {
   "cell_type": "code",
   "execution_count": null,
   "id": "12148bbf",
   "metadata": {},
   "outputs": [],
   "source": []
  },
  {
   "cell_type": "code",
   "execution_count": null,
   "id": "f40504a0",
   "metadata": {},
   "outputs": [],
   "source": []
  },
  {
   "cell_type": "code",
   "execution_count": null,
   "id": "b3b15f8a",
   "metadata": {},
   "outputs": [],
   "source": []
  },
  {
   "cell_type": "code",
   "execution_count": null,
   "id": "3968e622",
   "metadata": {},
   "outputs": [],
   "source": []
  },
  {
   "cell_type": "code",
   "execution_count": null,
   "id": "183a39f0",
   "metadata": {},
   "outputs": [],
   "source": []
  },
  {
   "cell_type": "code",
   "execution_count": null,
   "id": "191138fa",
   "metadata": {},
   "outputs": [],
   "source": []
  },
  {
   "cell_type": "code",
   "execution_count": null,
   "id": "23e88ec3",
   "metadata": {},
   "outputs": [],
   "source": []
  },
  {
   "cell_type": "code",
   "execution_count": null,
   "id": "e1672eb4",
   "metadata": {},
   "outputs": [],
   "source": []
  },
  {
   "cell_type": "code",
   "execution_count": null,
   "id": "632991d7",
   "metadata": {},
   "outputs": [],
   "source": []
  }
 ],
 "metadata": {
  "kernelspec": {
   "display_name": "Python 3 (ipykernel)",
   "language": "python",
   "name": "python3"
  },
  "language_info": {
   "codemirror_mode": {
    "name": "ipython",
    "version": 3
   },
   "file_extension": ".py",
   "mimetype": "text/x-python",
   "name": "python",
   "nbconvert_exporter": "python",
   "pygments_lexer": "ipython3",
   "version": "3.9.12"
  }
 },
 "nbformat": 4,
 "nbformat_minor": 5
}
