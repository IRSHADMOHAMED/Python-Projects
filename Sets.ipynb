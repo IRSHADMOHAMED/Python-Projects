{
 "cells": [
  {
   "cell_type": "code",
   "execution_count": 3,
   "id": "cfa3ed47",
   "metadata": {},
   "outputs": [
    {
     "data": {
      "text/plain": [
       "set()"
      ]
     },
     "execution_count": 3,
     "metadata": {},
     "output_type": "execute_result"
    }
   ],
   "source": [
    "my_set=set()\n",
    "my_set"
   ]
  },
  {
   "cell_type": "code",
   "execution_count": 4,
   "id": "aecbd661",
   "metadata": {},
   "outputs": [
    {
     "data": {
      "text/plain": [
       "{'Mary', 'Nina', 'Nora', 'Scotts'}"
      ]
     },
     "execution_count": 4,
     "metadata": {},
     "output_type": "execute_result"
    }
   ],
   "source": [
    "names_set={\"Mary\",\"Nora\",\"Nina\",\"Scotts\"}\n",
    "names_set"
   ]
  },
  {
   "cell_type": "code",
   "execution_count": 5,
   "id": "041a60da",
   "metadata": {},
   "outputs": [
    {
     "data": {
      "text/plain": [
       "set"
      ]
     },
     "execution_count": 5,
     "metadata": {},
     "output_type": "execute_result"
    }
   ],
   "source": [
    "type(names_set)\n"
   ]
  },
  {
   "cell_type": "code",
   "execution_count": 6,
   "id": "b29783ca",
   "metadata": {},
   "outputs": [
    {
     "data": {
      "text/plain": [
       "{'Mary', 'Nina', 'Nora', 'Scott'}"
      ]
     },
     "execution_count": 6,
     "metadata": {},
     "output_type": "execute_result"
    }
   ],
   "source": [
    "names_set={\"Mary\",\"Nora\",\"Nina\",\"Scott\",\"Nora\",\"Nina\"}\n",
    "names_set"
   ]
  },
  {
   "cell_type": "code",
   "execution_count": 7,
   "id": "6082b2b6",
   "metadata": {},
   "outputs": [
    {
     "data": {
      "text/plain": [
       "{10, 50.5, 'Alex', True}"
      ]
     },
     "execution_count": 7,
     "metadata": {},
     "output_type": "execute_result"
    }
   ],
   "source": [
    "mixed_set={\"Alex\",10,50.5,True}\n",
    "mixed_set"
   ]
  },
  {
   "cell_type": "code",
   "execution_count": 8,
   "id": "4bc66beb",
   "metadata": {},
   "outputs": [
    {
     "data": {
      "text/plain": [
       "{(1, 2, 3), 10, 50.5, 'Alex', True}"
      ]
     },
     "execution_count": 8,
     "metadata": {},
     "output_type": "execute_result"
    }
   ],
   "source": [
    "another_mixed_set={\"Alex\",10,50.5,True,(1,2,3)}\n",
    "another_mixed_set"
   ]
  },
  {
   "cell_type": "code",
   "execution_count": 9,
   "id": "08010525",
   "metadata": {},
   "outputs": [
    {
     "ename": "SyntaxError",
     "evalue": "invalid syntax (1092061422.py, line 1)",
     "output_type": "error",
     "traceback": [
      "\u001b[1;36m  Input \u001b[1;32mIn [9]\u001b[1;36m\u001b[0m\n\u001b[1;33m    another_mixed_set={\"Alex\"10,50.5,True,[1,2,3]}\u001b[0m\n\u001b[1;37m                             ^\u001b[0m\n\u001b[1;31mSyntaxError\u001b[0m\u001b[1;31m:\u001b[0m invalid syntax\n"
     ]
    }
   ],
   "source": [
    "another_mixed_set={\"Alex\"10,50.5,True,[1,2,3]}\n",
    "another_mixed_set"
   ]
  },
  {
   "cell_type": "code",
   "execution_count": 10,
   "id": "93fa5e75",
   "metadata": {},
   "outputs": [
    {
     "data": {
      "text/plain": [
       "{'Apple', 'Asus', 'Dell', 'HP', 'Lenovo', 'MSI', 'Toshiba'}"
      ]
     },
     "execution_count": 10,
     "metadata": {},
     "output_type": "execute_result"
    }
   ],
   "source": [
    "laptop_set={\"HP\",\"Apple\",\"Dell\",\"Asus\",\"Lenovo\",\"MSI\",\"Toshiba\"}\n",
    "laptop_set"
   ]
  },
  {
   "cell_type": "code",
   "execution_count": 11,
   "id": "c7df53fa",
   "metadata": {},
   "outputs": [
    {
     "data": {
      "text/plain": [
       "{'Apple', 'Asus', 'Dell', 'Genpact', 'HP', 'Lenovo', 'MSI', 'Toshiba'}"
      ]
     },
     "execution_count": 11,
     "metadata": {},
     "output_type": "execute_result"
    }
   ],
   "source": [
    "laptop_set.add(\"Genpact\")\n",
    "laptop_set"
   ]
  },
  {
   "cell_type": "code",
   "execution_count": 12,
   "id": "f75af4e1",
   "metadata": {},
   "outputs": [
    {
     "data": {
      "text/plain": [
       "{'Apple', 'Asus', 'Genpact', 'HP', 'Lenovo', 'MSI', 'Toshiba'}"
      ]
     },
     "execution_count": 12,
     "metadata": {},
     "output_type": "execute_result"
    }
   ],
   "source": [
    "laptop_set.discard('Dell')\n",
    "laptop_set"
   ]
  },
  {
   "cell_type": "code",
   "execution_count": 15,
   "id": "f6a80863",
   "metadata": {},
   "outputs": [
    {
     "data": {
      "text/plain": [
       "{'Apple', 'Asus', 'Genpact', 'HP', 'MSI', 'Toshiba'}"
      ]
     },
     "execution_count": 15,
     "metadata": {},
     "output_type": "execute_result"
    }
   ],
   "source": [
    "laptop_set.remove('Lenovo')\n",
    "laptop_set"
   ]
  },
  {
   "cell_type": "code",
   "execution_count": 1,
   "id": "750ae163",
   "metadata": {},
   "outputs": [],
   "source": [
    "student_set_1={\"Anita\",\"Emma\"}\n",
    "student_set_2={\"James\",\"Olivia\"}\n",
    "student_set_3={\"James\",\"Anita\"}"
   ]
  },
  {
   "cell_type": "code",
   "execution_count": 3,
   "id": "2bdd19a5",
   "metadata": {},
   "outputs": [
    {
     "data": {
      "text/plain": [
       "{'Anita', 'Emma', 'James', 'Olivia'}"
      ]
     },
     "execution_count": 3,
     "metadata": {},
     "output_type": "execute_result"
    }
   ],
   "source": [
    "student_set_1.union(student_set_2)"
   ]
  },
  {
   "cell_type": "code",
   "execution_count": 4,
   "id": "a8cc8279",
   "metadata": {},
   "outputs": [
    {
     "data": {
      "text/plain": [
       "{'James'}"
      ]
     },
     "execution_count": 4,
     "metadata": {},
     "output_type": "execute_result"
    }
   ],
   "source": [
    "student_set_2.intersection(student_set_3)"
   ]
  },
  {
   "cell_type": "code",
   "execution_count": 5,
   "id": "12744afc",
   "metadata": {},
   "outputs": [
    {
     "data": {
      "text/plain": [
       "{'Emma'}"
      ]
     },
     "execution_count": 5,
     "metadata": {},
     "output_type": "execute_result"
    }
   ],
   "source": [
    "student_set_1.difference(student_set_3)"
   ]
  },
  {
   "cell_type": "code",
   "execution_count": 6,
   "id": "bc1ee698",
   "metadata": {},
   "outputs": [
    {
     "data": {
      "text/plain": [
       "True"
      ]
     },
     "execution_count": 6,
     "metadata": {},
     "output_type": "execute_result"
    }
   ],
   "source": [
    "{1,2,3}.isdisjoint({4,5,6})"
   ]
  },
  {
   "cell_type": "code",
   "execution_count": 7,
   "id": "b75fcb83",
   "metadata": {},
   "outputs": [
    {
     "data": {
      "text/plain": [
       "True"
      ]
     },
     "execution_count": 7,
     "metadata": {},
     "output_type": "execute_result"
    }
   ],
   "source": [
    "{10,20}.issubset({10,20,30})"
   ]
  },
  {
   "cell_type": "code",
   "execution_count": 9,
   "id": "ad3f4b3d",
   "metadata": {},
   "outputs": [
    {
     "data": {
      "text/plain": [
       "True"
      ]
     },
     "execution_count": 9,
     "metadata": {},
     "output_type": "execute_result"
    }
   ],
   "source": [
    "{10,20,30}.issuperset({10,20})"
   ]
  },
  {
   "cell_type": "code",
   "execution_count": 12,
   "id": "3bd634d0",
   "metadata": {},
   "outputs": [],
   "source": [
    "names_list=[\"Mary\",\"Nora\",\"Nina\",\"Scott\",\"Nora\",\"Nina\"]\n",
    "names_tuple=(\"Mary\",\"Nora\",\"Nina\",\"Scott\",\"Nora\",\"Nina\")"
   ]
  },
  {
   "cell_type": "code",
   "execution_count": 16,
   "id": "41f65782",
   "metadata": {},
   "outputs": [
    {
     "data": {
      "text/plain": [
       "{'Mary', 'Nina', 'Nora', 'Scott'}"
      ]
     },
     "execution_count": 16,
     "metadata": {},
     "output_type": "execute_result"
    }
   ],
   "source": [
    "names_list_to_set=set(names_list)\n",
    "names_list_to_set"
   ]
  },
  {
   "cell_type": "code",
   "execution_count": null,
   "id": "74a5c2f4",
   "metadata": {},
   "outputs": [],
   "source": []
  },
  {
   "cell_type": "code",
   "execution_count": null,
   "id": "030244f9",
   "metadata": {},
   "outputs": [],
   "source": []
  },
  {
   "cell_type": "code",
   "execution_count": null,
   "id": "6fd55f50",
   "metadata": {},
   "outputs": [],
   "source": []
  },
  {
   "cell_type": "code",
   "execution_count": null,
   "id": "ead30afa",
   "metadata": {},
   "outputs": [],
   "source": []
  },
  {
   "cell_type": "code",
   "execution_count": null,
   "id": "30f35827",
   "metadata": {},
   "outputs": [],
   "source": []
  },
  {
   "cell_type": "code",
   "execution_count": null,
   "id": "d8dac668",
   "metadata": {},
   "outputs": [],
   "source": []
  }
 ],
 "metadata": {
  "kernelspec": {
   "display_name": "Python 3 (ipykernel)",
   "language": "python",
   "name": "python3"
  },
  "language_info": {
   "codemirror_mode": {
    "name": "ipython",
    "version": 3
   },
   "file_extension": ".py",
   "mimetype": "text/x-python",
   "name": "python",
   "nbconvert_exporter": "python",
   "pygments_lexer": "ipython3",
   "version": "3.9.12"
  }
 },
 "nbformat": 4,
 "nbformat_minor": 5
}
