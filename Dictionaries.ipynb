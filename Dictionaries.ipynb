{
 "cells": [
  {
   "cell_type": "code",
   "execution_count": 16,
   "id": "077c2e99",
   "metadata": {},
   "outputs": [
    {
     "data": {
      "text/plain": [
       "{}"
      ]
     },
     "execution_count": 16,
     "metadata": {},
     "output_type": "execute_result"
    }
   ],
   "source": [
    "my_dict={}\n",
    "my_dict\n"
   ]
  },
  {
   "cell_type": "code",
   "execution_count": 17,
   "id": "198a2ce6",
   "metadata": {},
   "outputs": [
    {
     "data": {
      "text/plain": [
       "{'Ray': 34000, 'Jacob': 35000, 'Lisa': 40000, 'Raj': 32000}"
      ]
     },
     "execution_count": 17,
     "metadata": {},
     "output_type": "execute_result"
    }
   ],
   "source": [
    "employee_salaries={\"Ray\":34000,\n",
    "                  \"Jacob\":35000,\n",
    "                  \"Lisa\":40000,\n",
    "                  \"Raj\":32000}\n",
    "employee_salaries"
   ]
  },
  {
   "cell_type": "code",
   "execution_count": 18,
   "id": "4a28431f",
   "metadata": {},
   "outputs": [
    {
     "data": {
      "text/plain": [
       "40000"
      ]
     },
     "execution_count": 18,
     "metadata": {},
     "output_type": "execute_result"
    }
   ],
   "source": [
    "employee_salaries[\"Lisa\"]"
   ]
  },
  {
   "cell_type": "code",
   "execution_count": 20,
   "id": "af4f5d84",
   "metadata": {},
   "outputs": [
    {
     "data": {
      "text/plain": [
       "32000"
      ]
     },
     "execution_count": 20,
     "metadata": {},
     "output_type": "execute_result"
    }
   ],
   "source": [
    "employee_salaries[\"Raj\"]"
   ]
  },
  {
   "cell_type": "code",
   "execution_count": 21,
   "id": "ffd5b384",
   "metadata": {},
   "outputs": [
    {
     "ename": "KeyError",
     "evalue": "'Alice'",
     "output_type": "error",
     "traceback": [
      "\u001b[1;31m---------------------------------------------------------------------------\u001b[0m",
      "\u001b[1;31mKeyError\u001b[0m                                  Traceback (most recent call last)",
      "Input \u001b[1;32mIn [21]\u001b[0m, in \u001b[0;36m<cell line: 1>\u001b[1;34m()\u001b[0m\n\u001b[1;32m----> 1\u001b[0m \u001b[43memployee_salaries\u001b[49m\u001b[43m[\u001b[49m\u001b[38;5;124;43m\"\u001b[39;49m\u001b[38;5;124;43mAlice\u001b[39;49m\u001b[38;5;124;43m\"\u001b[39;49m\u001b[43m]\u001b[49m\n",
      "\u001b[1;31mKeyError\u001b[0m: 'Alice'"
     ]
    }
   ],
   "source": [
    "employee_salaries[\"Alice\"]"
   ]
  },
  {
   "cell_type": "code",
   "execution_count": 22,
   "id": "f6e02532",
   "metadata": {},
   "outputs": [
    {
     "data": {
      "text/plain": [
       "{'Ray': 34000, 'Jacob': 35000, 'Lisa': 40000, 'Raj': 50000}"
      ]
     },
     "execution_count": 22,
     "metadata": {},
     "output_type": "execute_result"
    }
   ],
   "source": [
    "employee_salaries[\"Raj\"]=50000\n",
    "employee_salaries"
   ]
  },
  {
   "cell_type": "code",
   "execution_count": 23,
   "id": "d5b63997",
   "metadata": {},
   "outputs": [
    {
     "data": {
      "text/plain": [
       "{'Ray': 34000, 'Jacob': 35000, 'Lisa': 44000.0, 'Raj': 50000}"
      ]
     },
     "execution_count": 23,
     "metadata": {},
     "output_type": "execute_result"
    }
   ],
   "source": [
    "employee_salaries[\"Lisa\"]*=1.1\n",
    "employee_salaries"
   ]
  },
  {
   "cell_type": "code",
   "execution_count": 24,
   "id": "7615e469",
   "metadata": {},
   "outputs": [
    {
     "data": {
      "text/plain": [
       "{'Ray': 34000, 'Lisa': 44000.0, 'Raj': 50000}"
      ]
     },
     "execution_count": 24,
     "metadata": {},
     "output_type": "execute_result"
    }
   ],
   "source": [
    "del employee_salaries[\"Jacob\"]\n",
    "employee_salaries\n"
   ]
  },
  {
   "cell_type": "code",
   "execution_count": 39,
   "id": "fa67be4c",
   "metadata": {},
   "outputs": [
    {
     "data": {
      "text/plain": [
       "{1: 'Mary', 2: 'Roy', 3: 'Ophelia'}"
      ]
     },
     "execution_count": 39,
     "metadata": {},
     "output_type": "execute_result"
    }
   ],
   "source": [
    "dictionary_with_int_keys={1:\"Mary\",2:\"Roy\",3:\"Ophelia\"}\n",
    "dictionary_with_int_keys"
   ]
  },
  {
   "cell_type": "code",
   "execution_count": 40,
   "id": "8c00ccc7",
   "metadata": {},
   "outputs": [
    {
     "data": {
      "text/plain": [
       "{'Ray': 34000, 'Raj': 50000}"
      ]
     },
     "execution_count": 40,
     "metadata": {},
     "output_type": "execute_result"
    }
   ],
   "source": [
    "employee_salaries"
   ]
  },
  {
   "cell_type": "code",
   "execution_count": 41,
   "id": "f750109f",
   "metadata": {},
   "outputs": [
    {
     "data": {
      "text/plain": [
       "dict_keys(['Ray', 'Raj'])"
      ]
     },
     "execution_count": 41,
     "metadata": {},
     "output_type": "execute_result"
    }
   ],
   "source": [
    "employee_salaries.keys()"
   ]
  },
  {
   "cell_type": "code",
   "execution_count": 42,
   "id": "b773c976",
   "metadata": {},
   "outputs": [
    {
     "data": {
      "text/plain": [
       "dict_values([34000, 50000])"
      ]
     },
     "execution_count": 42,
     "metadata": {},
     "output_type": "execute_result"
    }
   ],
   "source": [
    "employee_salaries.values()"
   ]
  },
  {
   "cell_type": "code",
   "execution_count": 43,
   "id": "291bf94f",
   "metadata": {},
   "outputs": [
    {
     "data": {
      "text/plain": [
       "dict_items([('Ray', 34000), ('Raj', 50000)])"
      ]
     },
     "execution_count": 43,
     "metadata": {},
     "output_type": "execute_result"
    }
   ],
   "source": [
    "employee_salaries.items(\n",
    ")"
   ]
  },
  {
   "cell_type": "code",
   "execution_count": 47,
   "id": "c8b945e6",
   "metadata": {},
   "outputs": [
    {
     "data": {
      "text/plain": [
       "True"
      ]
     },
     "execution_count": 47,
     "metadata": {},
     "output_type": "execute_result"
    }
   ],
   "source": [
    "\"Ray\" in employee_salaries.keys()"
   ]
  },
  {
   "cell_type": "code",
   "execution_count": 48,
   "id": "806ee7bb",
   "metadata": {},
   "outputs": [
    {
     "data": {
      "text/plain": [
       "True"
      ]
     },
     "execution_count": 48,
     "metadata": {},
     "output_type": "execute_result"
    }
   ],
   "source": [
    "34000 in employee_salaries.values()"
   ]
  },
  {
   "cell_type": "code",
   "execution_count": 49,
   "id": "a562eb70",
   "metadata": {},
   "outputs": [
    {
     "data": {
      "text/plain": [
       "False"
      ]
     },
     "execution_count": 49,
     "metadata": {},
     "output_type": "execute_result"
    }
   ],
   "source": [
    "('Jacob',35000)in employee_salaries.items()"
   ]
  },
  {
   "cell_type": "code",
   "execution_count": 50,
   "id": "82f33870",
   "metadata": {},
   "outputs": [
    {
     "data": {
      "text/plain": [
       "{False: 'Hello', 'Hi': [1, 2, 3], 'Good morning': True}"
      ]
     },
     "execution_count": 50,
     "metadata": {},
     "output_type": "execute_result"
    }
   ],
   "source": [
    "mixed_dict={False:\"Hello\",\n",
    "            \"Hi\":[1,2,3],\n",
    "            \"Good morning\":True}\n",
    "mixed_dict"
   ]
  },
  {
   "cell_type": "code",
   "execution_count": 52,
   "id": "d1485282",
   "metadata": {},
   "outputs": [
    {
     "data": {
      "text/plain": [
       "'Hello'"
      ]
     },
     "execution_count": 52,
     "metadata": {},
     "output_type": "execute_result"
    }
   ],
   "source": [
    "mixed_dict[False]"
   ]
  },
  {
   "cell_type": "code",
   "execution_count": 53,
   "id": "ced17b3e",
   "metadata": {},
   "outputs": [
    {
     "data": {
      "text/plain": [
       "[1, 2, 3]"
      ]
     },
     "execution_count": 53,
     "metadata": {},
     "output_type": "execute_result"
    }
   ],
   "source": [
    "mixed_dict[\"Hi\"]"
   ]
  },
  {
   "cell_type": "code",
   "execution_count": 54,
   "id": "c9f20010",
   "metadata": {},
   "outputs": [
    {
     "data": {
      "text/plain": [
       "2"
      ]
     },
     "execution_count": 54,
     "metadata": {},
     "output_type": "execute_result"
    }
   ],
   "source": [
    "mixed_dict[\"Hi\"][1]"
   ]
  },
  {
   "cell_type": "code",
   "execution_count": 56,
   "id": "bf56f652",
   "metadata": {},
   "outputs": [
    {
     "data": {
      "text/plain": [
       "{}"
      ]
     },
     "execution_count": 56,
     "metadata": {},
     "output_type": "execute_result"
    }
   ],
   "source": [
    "calories={}\n",
    "calories"
   ]
  },
  {
   "cell_type": "code",
   "execution_count": 57,
   "id": "5c91bb1e",
   "metadata": {},
   "outputs": [],
   "source": [
    "calories[\"Burger\"]=500\n",
    "calories[\"Fries\"]=200\n",
    "calories[\"Shake\"]=400"
   ]
  },
  {
   "cell_type": "code",
   "execution_count": 58,
   "id": "645ec326",
   "metadata": {},
   "outputs": [
    {
     "data": {
      "text/plain": [
       "{'Burger': 500, 'Fries': 200, 'Shake': 400}"
      ]
     },
     "execution_count": 58,
     "metadata": {},
     "output_type": "execute_result"
    }
   ],
   "source": [
    "calories"
   ]
  },
  {
   "cell_type": "code",
   "execution_count": 59,
   "id": "b3069168",
   "metadata": {},
   "outputs": [
    {
     "data": {
      "text/plain": [
       "{'Burger': 500, 'Fries': 200, 'Shake': 400, 'burger': 550}"
      ]
     },
     "execution_count": 59,
     "metadata": {},
     "output_type": "execute_result"
    }
   ],
   "source": [
    "calories[\"burger\"]=550\n",
    "calories"
   ]
  },
  {
   "cell_type": "code",
   "execution_count": 60,
   "id": "0edacd0f",
   "metadata": {},
   "outputs": [
    {
     "data": {
      "text/plain": [
       "{'Shake': 700, 'Juice': 200}"
      ]
     },
     "execution_count": 60,
     "metadata": {},
     "output_type": "execute_result"
    }
   ],
   "source": [
    "updated_calories={\"Shake\":700,\"Juice\":200}\n",
    "updated_calories"
   ]
  },
  {
   "cell_type": "code",
   "execution_count": 62,
   "id": "0aae12a4",
   "metadata": {},
   "outputs": [
    {
     "data": {
      "text/plain": [
       "{'Burger': 500, 'Fries': 200, 'Shake': 700, 'burger': 550, 'Juice': 200}"
      ]
     },
     "execution_count": 62,
     "metadata": {},
     "output_type": "execute_result"
    }
   ],
   "source": [
    "calories.update(updated_calories)\n",
    "calories"
   ]
  },
  {
   "cell_type": "code",
   "execution_count": null,
   "id": "bb0b5477",
   "metadata": {},
   "outputs": [],
   "source": []
  },
  {
   "cell_type": "code",
   "execution_count": null,
   "id": "b22d9e32",
   "metadata": {},
   "outputs": [],
   "source": []
  },
  {
   "cell_type": "code",
   "execution_count": null,
   "id": "96676d09",
   "metadata": {},
   "outputs": [],
   "source": []
  },
  {
   "cell_type": "code",
   "execution_count": null,
   "id": "067b374e",
   "metadata": {},
   "outputs": [],
   "source": []
  },
  {
   "cell_type": "code",
   "execution_count": null,
   "id": "fcb0f249",
   "metadata": {},
   "outputs": [],
   "source": []
  },
  {
   "cell_type": "code",
   "execution_count": null,
   "id": "c41fa93c",
   "metadata": {},
   "outputs": [],
   "source": []
  },
  {
   "cell_type": "code",
   "execution_count": null,
   "id": "751f83ab",
   "metadata": {},
   "outputs": [],
   "source": []
  },
  {
   "cell_type": "code",
   "execution_count": null,
   "id": "09ee3a3d",
   "metadata": {},
   "outputs": [],
   "source": []
  }
 ],
 "metadata": {
  "kernelspec": {
   "display_name": "Python 3 (ipykernel)",
   "language": "python",
   "name": "python3"
  },
  "language_info": {
   "codemirror_mode": {
    "name": "ipython",
    "version": 3
   },
   "file_extension": ".py",
   "mimetype": "text/x-python",
   "name": "python",
   "nbconvert_exporter": "python",
   "pygments_lexer": "ipython3",
   "version": "3.9.12"
  }
 },
 "nbformat": 4,
 "nbformat_minor": 5
}
