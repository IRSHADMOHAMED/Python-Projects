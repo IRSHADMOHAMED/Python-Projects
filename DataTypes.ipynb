{
 "cells": [
  {
   "cell_type": "code",
   "execution_count": 1,
   "id": "0badae3b",
   "metadata": {},
   "outputs": [
    {
     "data": {
      "text/plain": [
       "str"
      ]
     },
     "execution_count": 1,
     "metadata": {},
     "output_type": "execute_result"
    }
   ],
   "source": [
    "some_string=\"Programming in Python is quite intuitive\"\n",
    "type(some_string)"
   ]
  },
  {
   "cell_type": "code",
   "execution_count": 2,
   "id": "ffebc491",
   "metadata": {},
   "outputs": [
    {
     "name": "stdout",
     "output_type": "stream",
     "text": [
      "<class 'str'>\n"
     ]
    }
   ],
   "source": [
    "print(type(some_string))"
   ]
  },
  {
   "cell_type": "code",
   "execution_count": 3,
   "id": "ffb1f5f7",
   "metadata": {},
   "outputs": [
    {
     "data": {
      "text/plain": [
       "int"
      ]
     },
     "execution_count": 3,
     "metadata": {},
     "output_type": "execute_result"
    }
   ],
   "source": [
    "some_number=4\n",
    "type(some_number)"
   ]
  },
  {
   "cell_type": "code",
   "execution_count": 4,
   "id": "90c24bea",
   "metadata": {},
   "outputs": [
    {
     "name": "stdout",
     "output_type": "stream",
     "text": [
      "<class 'int'>\n"
     ]
    }
   ],
   "source": [
    "print(type(some_number))"
   ]
  },
  {
   "cell_type": "code",
   "execution_count": 6,
   "id": "37e510d2",
   "metadata": {},
   "outputs": [
    {
     "data": {
      "text/plain": [
       "float"
      ]
     },
     "execution_count": 6,
     "metadata": {},
     "output_type": "execute_result"
    }
   ],
   "source": [
    "some_number=4.8\n",
    "type(some_number)"
   ]
  },
  {
   "cell_type": "code",
   "execution_count": 7,
   "id": "590b4db2",
   "metadata": {},
   "outputs": [
    {
     "name": "stdout",
     "output_type": "stream",
     "text": [
      "<class 'float'>\n"
     ]
    }
   ],
   "source": [
    "print(type(some_number))"
   ]
  },
  {
   "cell_type": "code",
   "execution_count": 8,
   "id": "168cd393",
   "metadata": {},
   "outputs": [
    {
     "data": {
      "text/plain": [
       "complex"
      ]
     },
     "execution_count": 8,
     "metadata": {},
     "output_type": "execute_result"
    }
   ],
   "source": [
    "some_complex_number=20j\n",
    "type(some_complex_number)"
   ]
  },
  {
   "cell_type": "code",
   "execution_count": 9,
   "id": "70a633e0",
   "metadata": {},
   "outputs": [
    {
     "name": "stdout",
     "output_type": "stream",
     "text": [
      "<class 'complex'>\n"
     ]
    }
   ],
   "source": [
    "print(type(some_complex_number))"
   ]
  },
  {
   "cell_type": "code",
   "execution_count": 11,
   "id": "ac96c88a",
   "metadata": {},
   "outputs": [
    {
     "data": {
      "text/plain": [
       "bool"
      ]
     },
     "execution_count": 11,
     "metadata": {},
     "output_type": "execute_result"
    }
   ],
   "source": [
    "some_boolean=True\n",
    "type(some_boolean)"
   ]
  },
  {
   "cell_type": "code",
   "execution_count": 12,
   "id": "3ef89eec",
   "metadata": {},
   "outputs": [
    {
     "data": {
      "text/plain": [
       "b'\\x00\\x00\\x00\\x00\\x00\\x00\\x00\\x00\\x00\\x00'"
      ]
     },
     "execution_count": 12,
     "metadata": {},
     "output_type": "execute_result"
    }
   ],
   "source": [
    "some_bytes=bytes(10)\n",
    "some_bytes"
   ]
  },
  {
   "cell_type": "code",
   "execution_count": 13,
   "id": "328984e2",
   "metadata": {},
   "outputs": [
    {
     "data": {
      "text/plain": [
       "bytes"
      ]
     },
     "execution_count": 13,
     "metadata": {},
     "output_type": "execute_result"
    }
   ],
   "source": [
    "type(some_bytes)"
   ]
  },
  {
   "cell_type": "code",
   "execution_count": 14,
   "id": "9d9721d3",
   "metadata": {},
   "outputs": [
    {
     "data": {
      "text/plain": [
       "bytearray(b'\\x00\\x00\\x00\\x00\\x00\\x00\\x00\\x00\\x00\\x00')"
      ]
     },
     "execution_count": 14,
     "metadata": {},
     "output_type": "execute_result"
    }
   ],
   "source": [
    "some_bytes=bytearray(10)\n",
    "some_bytes"
   ]
  },
  {
   "cell_type": "code",
   "execution_count": 15,
   "id": "f4203107",
   "metadata": {},
   "outputs": [
    {
     "data": {
      "text/plain": [
       "bytearray"
      ]
     },
     "execution_count": 15,
     "metadata": {},
     "output_type": "execute_result"
    }
   ],
   "source": [
    "type(some_bytes)"
   ]
  },
  {
   "cell_type": "code",
   "execution_count": 17,
   "id": "6f3125bb",
   "metadata": {},
   "outputs": [
    {
     "data": {
      "text/plain": [
       "<memory at 0x0108B928>"
      ]
     },
     "execution_count": 17,
     "metadata": {},
     "output_type": "execute_result"
    }
   ],
   "source": [
    "some_memoryview=memoryview(bytes(10))\n",
    "some_memoryview"
   ]
  },
  {
   "cell_type": "code",
   "execution_count": 18,
   "id": "58da8f41",
   "metadata": {},
   "outputs": [
    {
     "data": {
      "text/plain": [
       "memoryview"
      ]
     },
     "execution_count": 18,
     "metadata": {},
     "output_type": "execute_result"
    }
   ],
   "source": [
    "type(some_memoryview)"
   ]
  },
  {
   "cell_type": "code",
   "execution_count": 1,
   "id": "ca643007",
   "metadata": {},
   "outputs": [
    {
     "data": {
      "text/plain": [
       "[3, 5, 7, 9]"
      ]
     },
     "execution_count": 1,
     "metadata": {},
     "output_type": "execute_result"
    }
   ],
   "source": [
    "numbers_list=[3,5,7,9]\n",
    "numbers_list"
   ]
  },
  {
   "cell_type": "code",
   "execution_count": 2,
   "id": "5fcbb9e0",
   "metadata": {},
   "outputs": [
    {
     "data": {
      "text/plain": [
       "list"
      ]
     },
     "execution_count": 2,
     "metadata": {},
     "output_type": "execute_result"
    }
   ],
   "source": [
    "type(numbers_list)"
   ]
  },
  {
   "cell_type": "code",
   "execution_count": 4,
   "id": "72ec1113",
   "metadata": {},
   "outputs": [
    {
     "data": {
      "text/plain": [
       "int"
      ]
     },
     "execution_count": 4,
     "metadata": {},
     "output_type": "execute_result"
    }
   ],
   "source": [
    "type(numbers_list[2])"
   ]
  },
  {
   "cell_type": "code",
   "execution_count": 7,
   "id": "da22ec19",
   "metadata": {},
   "outputs": [
    {
     "data": {
      "text/plain": [
       "list"
      ]
     },
     "execution_count": 7,
     "metadata": {},
     "output_type": "execute_result"
    }
   ],
   "source": [
    "mixed_list=[1,2.3,\"John\",False]\n",
    "type(mixed_list)"
   ]
  },
  {
   "cell_type": "code",
   "execution_count": 8,
   "id": "b674d3a3",
   "metadata": {},
   "outputs": [
    {
     "data": {
      "text/plain": [
       "float"
      ]
     },
     "execution_count": 8,
     "metadata": {},
     "output_type": "execute_result"
    }
   ],
   "source": [
    "type(mixed_list[1])"
   ]
  },
  {
   "cell_type": "code",
   "execution_count": 9,
   "id": "9ab72f16",
   "metadata": {},
   "outputs": [
    {
     "data": {
      "text/plain": [
       "str"
      ]
     },
     "execution_count": 9,
     "metadata": {},
     "output_type": "execute_result"
    }
   ],
   "source": [
    "type(mixed_list[2])"
   ]
  },
  {
   "cell_type": "code",
   "execution_count": 10,
   "id": "ddcc633f",
   "metadata": {},
   "outputs": [
    {
     "data": {
      "text/plain": [
       "('Jane', 34, 56000, True)"
      ]
     },
     "execution_count": 10,
     "metadata": {},
     "output_type": "execute_result"
    }
   ],
   "source": [
    "record=(\"Jane\",34,56000,True)\n",
    "record"
   ]
  },
  {
   "cell_type": "code",
   "execution_count": 11,
   "id": "0ad979ac",
   "metadata": {},
   "outputs": [
    {
     "data": {
      "text/plain": [
       "tuple"
      ]
     },
     "execution_count": 11,
     "metadata": {},
     "output_type": "execute_result"
    }
   ],
   "source": [
    "type(record)"
   ]
  },
  {
   "cell_type": "code",
   "execution_count": 12,
   "id": "4634b1ae",
   "metadata": {},
   "outputs": [
    {
     "data": {
      "text/plain": [
       "str"
      ]
     },
     "execution_count": 12,
     "metadata": {},
     "output_type": "execute_result"
    }
   ],
   "source": [
    "type(record[0])"
   ]
  },
  {
   "cell_type": "code",
   "execution_count": 13,
   "id": "de078cbc",
   "metadata": {},
   "outputs": [
    {
     "data": {
      "text/plain": [
       "bool"
      ]
     },
     "execution_count": 13,
     "metadata": {},
     "output_type": "execute_result"
    }
   ],
   "source": [
    "type(record[3])"
   ]
  },
  {
   "cell_type": "code",
   "execution_count": 15,
   "id": "17c3533a",
   "metadata": {},
   "outputs": [
    {
     "data": {
      "text/plain": [
       "range(0, 4)"
      ]
     },
     "execution_count": 15,
     "metadata": {},
     "output_type": "execute_result"
    }
   ],
   "source": [
    "range_of_numbers=range(4)\n",
    "range_of_numbers"
   ]
  },
  {
   "cell_type": "code",
   "execution_count": 16,
   "id": "4d42f66f",
   "metadata": {},
   "outputs": [
    {
     "data": {
      "text/plain": [
       "range"
      ]
     },
     "execution_count": 16,
     "metadata": {},
     "output_type": "execute_result"
    }
   ],
   "source": [
    "type(range_of_numbers)"
   ]
  },
  {
   "cell_type": "code",
   "execution_count": 17,
   "id": "029b3493",
   "metadata": {},
   "outputs": [
    {
     "data": {
      "text/plain": [
       "{'blue', 'green', 'red'}"
      ]
     },
     "execution_count": 17,
     "metadata": {},
     "output_type": "execute_result"
    }
   ],
   "source": [
    "colors={\"red\",\"green\",\"blue\"}\n",
    "colors"
   ]
  },
  {
   "cell_type": "code",
   "execution_count": 18,
   "id": "ea7b33c5",
   "metadata": {},
   "outputs": [
    {
     "data": {
      "text/plain": [
       "set"
      ]
     },
     "execution_count": 18,
     "metadata": {},
     "output_type": "execute_result"
    }
   ],
   "source": [
    "type(colors)"
   ]
  },
  {
   "cell_type": "code",
   "execution_count": 20,
   "id": "766655ab",
   "metadata": {},
   "outputs": [
    {
     "data": {
      "text/plain": [
       "{1, 2.5, 6, 7.8}"
      ]
     },
     "execution_count": 20,
     "metadata": {},
     "output_type": "execute_result"
    }
   ],
   "source": [
    "numbers={1,2.5,6,7.8}\n",
    "numbers"
   ]
  },
  {
   "cell_type": "code",
   "execution_count": 21,
   "id": "214c9ccd",
   "metadata": {},
   "outputs": [
    {
     "data": {
      "text/plain": [
       "set"
      ]
     },
     "execution_count": 21,
     "metadata": {},
     "output_type": "execute_result"
    }
   ],
   "source": [
    "type(numbers)"
   ]
  },
  {
   "cell_type": "code",
   "execution_count": 22,
   "id": "28782ee6",
   "metadata": {},
   "outputs": [
    {
     "data": {
      "text/plain": [
       "{'Alex': 4.5, 'Mary': 4.8, 'Jim': 3}"
      ]
     },
     "execution_count": 22,
     "metadata": {},
     "output_type": "execute_result"
    }
   ],
   "source": [
    "interview_scores={\"Alex\":4.5,\"Mary\":4.8,\"Jim\":3}\n",
    "interview_scores"
   ]
  },
  {
   "cell_type": "code",
   "execution_count": 23,
   "id": "838aae2c",
   "metadata": {},
   "outputs": [
    {
     "data": {
      "text/plain": [
       "dict"
      ]
     },
     "execution_count": 23,
     "metadata": {},
     "output_type": "execute_result"
    }
   ],
   "source": [
    "type(interview_scores)"
   ]
  },
  {
   "cell_type": "code",
   "execution_count": 24,
   "id": "c63068fb",
   "metadata": {},
   "outputs": [
    {
     "data": {
      "text/plain": [
       "{1001: 'Greg House', 1002: 'James Wilson', 1003: 'Lisa Cuddy'}"
      ]
     },
     "execution_count": 24,
     "metadata": {},
     "output_type": "execute_result"
    }
   ],
   "source": [
    "employees_map={1001:\"Greg House\",1002:\"James Wilson\",1003:\"Lisa Cuddy\"}\n",
    "employees_map"
   ]
  },
  {
   "cell_type": "code",
   "execution_count": 25,
   "id": "9318c801",
   "metadata": {},
   "outputs": [
    {
     "data": {
      "text/plain": [
       "dict"
      ]
     },
     "execution_count": 25,
     "metadata": {},
     "output_type": "execute_result"
    }
   ],
   "source": [
    "type(employees_map)"
   ]
  },
  {
   "cell_type": "code",
   "execution_count": 27,
   "id": "84f69cfd",
   "metadata": {},
   "outputs": [
    {
     "data": {
      "text/plain": [
       "'1000'"
      ]
     },
     "execution_count": 27,
     "metadata": {},
     "output_type": "execute_result"
    }
   ],
   "source": [
    "some_string=\"1000\"\n",
    "some_string"
   ]
  },
  {
   "cell_type": "code",
   "execution_count": 28,
   "id": "f548d6c3",
   "metadata": {},
   "outputs": [
    {
     "data": {
      "text/plain": [
       "str"
      ]
     },
     "execution_count": 28,
     "metadata": {},
     "output_type": "execute_result"
    }
   ],
   "source": [
    "type(some_string)"
   ]
  },
  {
   "cell_type": "code",
   "execution_count": 29,
   "id": "0afb5ce4",
   "metadata": {},
   "outputs": [
    {
     "data": {
      "text/plain": [
       "1000"
      ]
     },
     "execution_count": 29,
     "metadata": {},
     "output_type": "execute_result"
    }
   ],
   "source": [
    "some_int=int(some_string)\n",
    "some_int\n"
   ]
  },
  {
   "cell_type": "code",
   "execution_count": 30,
   "id": "9e7a12ff",
   "metadata": {},
   "outputs": [
    {
     "data": {
      "text/plain": [
       "int"
      ]
     },
     "execution_count": 30,
     "metadata": {},
     "output_type": "execute_result"
    }
   ],
   "source": [
    "type(some_int)"
   ]
  },
  {
   "cell_type": "code",
   "execution_count": 31,
   "id": "fd1fb212",
   "metadata": {},
   "outputs": [
    {
     "data": {
      "text/plain": [
       "1000.0"
      ]
     },
     "execution_count": 31,
     "metadata": {},
     "output_type": "execute_result"
    }
   ],
   "source": [
    "some_float=float(some_string)\n",
    "some_float\n"
   ]
  },
  {
   "cell_type": "code",
   "execution_count": 32,
   "id": "5d6382bf",
   "metadata": {},
   "outputs": [
    {
     "data": {
      "text/plain": [
       "float"
      ]
     },
     "execution_count": 32,
     "metadata": {},
     "output_type": "execute_result"
    }
   ],
   "source": [
    "type(some_float)"
   ]
  },
  {
   "cell_type": "code",
   "execution_count": 34,
   "id": "b15e7344",
   "metadata": {},
   "outputs": [
    {
     "data": {
      "text/plain": [
       "'10000'"
      ]
     },
     "execution_count": 34,
     "metadata": {},
     "output_type": "execute_result"
    }
   ],
   "source": [
    "anothor_string=str(10000)\n",
    "anothor_string\n"
   ]
  },
  {
   "cell_type": "code",
   "execution_count": 35,
   "id": "704f05ad",
   "metadata": {},
   "outputs": [
    {
     "data": {
      "text/plain": [
       "'10000.45'"
      ]
     },
     "execution_count": 35,
     "metadata": {},
     "output_type": "execute_result"
    }
   ],
   "source": [
    "yet_another_string=str(10000.45)\n",
    "yet_another_string"
   ]
  },
  {
   "cell_type": "code",
   "execution_count": 36,
   "id": "3c91d4f8",
   "metadata": {},
   "outputs": [
    {
     "data": {
      "text/plain": [
       "str"
      ]
     },
     "execution_count": 36,
     "metadata": {},
     "output_type": "execute_result"
    }
   ],
   "source": [
    "type(yet_another_string)"
   ]
  },
  {
   "cell_type": "code",
   "execution_count": 37,
   "id": "0cb98025",
   "metadata": {},
   "outputs": [
    {
     "data": {
      "text/plain": [
       "'False'"
      ]
     },
     "execution_count": 37,
     "metadata": {},
     "output_type": "execute_result"
    }
   ],
   "source": [
    "boolean_string=str(False)\n",
    "boolean_string"
   ]
  },
  {
   "cell_type": "code",
   "execution_count": 38,
   "id": "fe52a391",
   "metadata": {},
   "outputs": [
    {
     "data": {
      "text/plain": [
       "'True'"
      ]
     },
     "execution_count": 38,
     "metadata": {},
     "output_type": "execute_result"
    }
   ],
   "source": [
    "boolean_string=str(True)\n",
    "boolean_string"
   ]
  },
  {
   "cell_type": "code",
   "execution_count": null,
   "id": "44fd9c81",
   "metadata": {},
   "outputs": [],
   "source": []
  }
 ],
 "metadata": {
  "kernelspec": {
   "display_name": "Python 3 (ipykernel)",
   "language": "python",
   "name": "python3"
  },
  "language_info": {
   "codemirror_mode": {
    "name": "ipython",
    "version": 3
   },
   "file_extension": ".py",
   "mimetype": "text/x-python",
   "name": "python",
   "nbconvert_exporter": "python",
   "pygments_lexer": "ipython3",
   "version": "3.9.12"
  }
 },
 "nbformat": 4,
 "nbformat_minor": 5
}
