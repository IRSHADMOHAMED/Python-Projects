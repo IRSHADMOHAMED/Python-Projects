{
 "cells": [
  {
   "cell_type": "code",
   "execution_count": 1,
   "id": "0ab9a3d5",
   "metadata": {},
   "outputs": [
    {
     "data": {
      "text/plain": [
       "['apple', 'plum', 'mango', 'guava', 'pear']"
      ]
     },
     "execution_count": 1,
     "metadata": {},
     "output_type": "execute_result"
    }
   ],
   "source": [
    "fruit_list=[\"apple\",\"plum\",\"mango\",\"guava\",\"pear\"]\n",
    "fruit_list"
   ]
  },
  {
   "cell_type": "code",
   "execution_count": 2,
   "id": "54bdf8cf",
   "metadata": {},
   "outputs": [
    {
     "data": {
      "text/plain": [
       "['apple', 'plum', 'mango', 'guava', 'pear']"
      ]
     },
     "execution_count": 2,
     "metadata": {},
     "output_type": "execute_result"
    }
   ],
   "source": [
    "fruit_copy=fruit_list\n",
    "fruit_copy"
   ]
  },
  {
   "cell_type": "code",
   "execution_count": 3,
   "id": "9849bda2",
   "metadata": {},
   "outputs": [
    {
     "name": "stdout",
     "output_type": "stream",
     "text": [
      "original: ['apple', 'plum', 'guava', 'pear']\n",
      "Modified: ['apple', 'plum', 'guava', 'pear']\n"
     ]
    }
   ],
   "source": [
    "fruit_list.remove(\"mango\")\n",
    "print(\"original:\",fruit_list)\n",
    "print(\"Modified:\",fruit_copy)"
   ]
  },
  {
   "cell_type": "code",
   "execution_count": 4,
   "id": "5492bc79",
   "metadata": {},
   "outputs": [
    {
     "data": {
      "text/plain": [
       "['apple', 'plum', 'guava', 'pear']"
      ]
     },
     "execution_count": 4,
     "metadata": {},
     "output_type": "execute_result"
    }
   ],
   "source": [
    "fruit_copy=fruit_list.copy()\n",
    "fruit_copy"
   ]
  },
  {
   "cell_type": "code",
   "execution_count": 5,
   "id": "e49490b4",
   "metadata": {},
   "outputs": [
    {
     "name": "stdout",
     "output_type": "stream",
     "text": [
      "Original: ['pineapple', 'plum', 'guava', 'pear']\n",
      "Modified: ['apple', 'plum', 'guava', 'pear']\n"
     ]
    }
   ],
   "source": [
    "fruit_list[0]=\"pineapple\"\n",
    "print(\"Original:\",fruit_list)\n",
    "print(\"Modified:\",fruit_copy)"
   ]
  },
  {
   "cell_type": "code",
   "execution_count": 6,
   "id": "fc344f3f",
   "metadata": {},
   "outputs": [
    {
     "data": {
      "text/plain": [
       "['Henry', ['1349 West Zenith St', 'Massachusetts']]"
      ]
     },
     "execution_count": 6,
     "metadata": {},
     "output_type": "execute_result"
    }
   ],
   "source": [
    "first_person=[\"Henry\",[\"1349 West Zenith St\",\"Massachusetts\"]]\n",
    "first_person"
   ]
  },
  {
   "cell_type": "code",
   "execution_count": 7,
   "id": "d04362a5",
   "metadata": {},
   "outputs": [],
   "source": [
    "second_person=first_person.copy()\n",
    "second_person[0]=\"Mark\""
   ]
  },
  {
   "cell_type": "code",
   "execution_count": 8,
   "id": "8ada4531",
   "metadata": {},
   "outputs": [],
   "source": [
    "second_person[1][0]=\"Brookline Avenue\""
   ]
  },
  {
   "cell_type": "code",
   "execution_count": 11,
   "id": "51523c9e",
   "metadata": {},
   "outputs": [
    {
     "name": "stdout",
     "output_type": "stream",
     "text": [
      "First person: ['Henry', ['Brookline Avenue', 'Massachusetts']]\n",
      "Second person: ['Mark', ['Brookline Avenue', 'Massachusetts']]\n"
     ]
    }
   ],
   "source": [
    "print(\"First person:\",first_person)\n",
    "print(\"Second person:\",second_person)"
   ]
  },
  {
   "cell_type": "code",
   "execution_count": 13,
   "id": "beecfc9e",
   "metadata": {},
   "outputs": [],
   "source": [
    "from copy import deepcopy"
   ]
  },
  {
   "cell_type": "code",
   "execution_count": 14,
   "id": "f1ca75fd",
   "metadata": {},
   "outputs": [],
   "source": [
    "first_person=[\"Henry\",[\"1349 West Zenith St\",\"Massachustts\"]]"
   ]
  },
  {
   "cell_type": "code",
   "execution_count": null,
   "id": "9cdf41c8",
   "metadata": {},
   "outputs": [],
   "source": [
    "second-person=deepcopy(first_person)\n",
    "second_person[0]=\"Mark\"\n",
    "second_person[1][0]=\"Brookline Avenue\""
   ]
  },
  {
   "cell_type": "code",
   "execution_count": 15,
   "id": "c6d40863",
   "metadata": {},
   "outputs": [
    {
     "name": "stdout",
     "output_type": "stream",
     "text": [
      "First person: ['Henry', ['1349 West Zenith St', 'Massachustts']]\n",
      "Second person: ['Mark', ['Brookline Avenue', 'Massachusetts']]\n"
     ]
    }
   ],
   "source": [
    "print(\"First person:\",first_person)\n",
    "print(\"Second person:\",second_person)"
   ]
  },
  {
   "cell_type": "code",
   "execution_count": 16,
   "id": "85ad3249",
   "metadata": {},
   "outputs": [],
   "source": [
    "ice_cream_tuple=(\"Vanilla\",[\"Chocolate\",\"Vanilla\"],\"Strawberry\",\"Blueberry\")\n",
    "ice_cream_tuple_copy=ice_cream_tuple"
   ]
  },
  {
   "cell_type": "code",
   "execution_count": 17,
   "id": "44b428d7",
   "metadata": {},
   "outputs": [
    {
     "name": "stdout",
     "output_type": "stream",
     "text": [
      "Original: ('Vanilla', ['Chocolate', 'Vanilla'], 'Strawberry', 'Blueberry')\n",
      "modified: ('Vanilla', ['Chocolate', 'Vanilla'], 'Strawberry', 'Blueberry')\n"
     ]
    }
   ],
   "source": [
    "print(\"Original:\",ice_cream_tuple)\n",
    "print(\"modified:\",ice_cream_tuple_copy)"
   ]
  },
  {
   "cell_type": "code",
   "execution_count": null,
   "id": "3d02bcaf",
   "metadata": {},
   "outputs": [],
   "source": [
    "ice_cream_tuple_copy[1][0]=\"Butterscotch\""
   ]
  },
  {
   "cell_type": "code",
   "execution_count": 18,
   "id": "0991b34d",
   "metadata": {},
   "outputs": [
    {
     "name": "stdout",
     "output_type": "stream",
     "text": [
      "Original: ('Vanilla', ['Chocolate', 'Vanilla'], 'Strawberry', 'Blueberry')\n",
      "Modified: ('Vanilla', ['Chocolate', 'Vanilla'], 'Strawberry', 'Blueberry')\n"
     ]
    }
   ],
   "source": [
    "print(\"Original:\",ice_cream_tuple)\n",
    "print(\"Modified:\",ice_cream_tuple_copy)"
   ]
  },
  {
   "cell_type": "code",
   "execution_count": 19,
   "id": "57b3357c",
   "metadata": {},
   "outputs": [
    {
     "data": {
      "text/plain": [
       "('Vanilla', ['Chocolate', 'Vanilla'], 'Strawberry', 'Blueberry')"
      ]
     },
     "execution_count": 19,
     "metadata": {},
     "output_type": "execute_result"
    }
   ],
   "source": [
    "ice_cream_tuple=(\"Vanilla\",[\"Chocolate\",\"Vanilla\"],\"Strawberry\",\"Blueberry\")\n",
    "ice_cream_tuple"
   ]
  },
  {
   "cell_type": "code",
   "execution_count": 20,
   "id": "40c7021f",
   "metadata": {},
   "outputs": [
    {
     "ename": "AttributeError",
     "evalue": "'tuple' object has no attribute 'copy'",
     "output_type": "error",
     "traceback": [
      "\u001b[1;31m---------------------------------------------------------------------------\u001b[0m",
      "\u001b[1;31mAttributeError\u001b[0m                            Traceback (most recent call last)",
      "Input \u001b[1;32mIn [20]\u001b[0m, in \u001b[0;36m<cell line: 1>\u001b[1;34m()\u001b[0m\n\u001b[1;32m----> 1\u001b[0m ice_cream_tuple_copy\u001b[38;5;241m=\u001b[39m\u001b[43mice_cream_tuple\u001b[49m\u001b[38;5;241;43m.\u001b[39;49m\u001b[43mcopy\u001b[49m()\n",
      "\u001b[1;31mAttributeError\u001b[0m: 'tuple' object has no attribute 'copy'"
     ]
    }
   ],
   "source": [
    "ice_cream_tuple_copy=ice_cream_tuple.copy()"
   ]
  },
  {
   "cell_type": "code",
   "execution_count": 21,
   "id": "40ec1279",
   "metadata": {},
   "outputs": [],
   "source": [
    "from copy import deepcopy\n",
    "ice_cream_tuple_copy=deepcopy(ice_cream_tuple)"
   ]
  },
  {
   "cell_type": "code",
   "execution_count": 22,
   "id": "7dd1b605",
   "metadata": {},
   "outputs": [
    {
     "name": "stdout",
     "output_type": "stream",
     "text": [
      "original: ('Vanilla', ['Chocolate', 'Vanilla'], 'Strawberry', 'Blueberry')\n",
      "Modified: ('Vanilla', ['Chocolate', 'Vanilla'], 'Strawberry', 'Blueberry')\n"
     ]
    }
   ],
   "source": [
    "print(\"original:\",ice_cream_tuple)\n",
    "print(\"Modified:\",ice_cream_tuple_copy)"
   ]
  },
  {
   "cell_type": "code",
   "execution_count": 23,
   "id": "c7b97de3",
   "metadata": {},
   "outputs": [],
   "source": [
    "ice_cream_tuple_copy[1][0]=\"Butterscotch\""
   ]
  },
  {
   "cell_type": "code",
   "execution_count": 24,
   "id": "c33fcfb2",
   "metadata": {},
   "outputs": [
    {
     "name": "stdout",
     "output_type": "stream",
     "text": [
      "Original: ('Vanilla', ['Chocolate', 'Vanilla'], 'Strawberry', 'Blueberry')\n",
      "Modified: ('Vanilla', ['Butterscotch', 'Vanilla'], 'Strawberry', 'Blueberry')\n"
     ]
    }
   ],
   "source": [
    "print(\"Original:\",ice_cream_tuple)\n",
    "print(\"Modified:\",ice_cream_tuple_copy)"
   ]
  },
  {
   "cell_type": "code",
   "execution_count": 27,
   "id": "86d98e64",
   "metadata": {},
   "outputs": [
    {
     "data": {
      "text/plain": [
       "{'blue', 'orange', 'pink', 'red', 'yellow'}"
      ]
     },
     "execution_count": 27,
     "metadata": {},
     "output_type": "execute_result"
    }
   ],
   "source": [
    "colors_set={'blue','red','orange','yellow','pink'}\n",
    "colors_set"
   ]
  },
  {
   "cell_type": "code",
   "execution_count": 28,
   "id": "33391750",
   "metadata": {},
   "outputs": [
    {
     "name": "stdout",
     "output_type": "stream",
     "text": [
      "Origianl: {'red', 'blue', 'yellow', 'orange', 'pink'}\n",
      "Modified: {'red', 'blue', 'yellow', 'orange', 'pink'}\n"
     ]
    }
   ],
   "source": [
    "colors_set_copy=colors_set\n",
    "print(\"Origianl:\",colors_set)\n",
    "print(\"Modified:\",colors_set_copy)"
   ]
  },
  {
   "cell_type": "code",
   "execution_count": 29,
   "id": "48b72bf2",
   "metadata": {},
   "outputs": [
    {
     "name": "stdout",
     "output_type": "stream",
     "text": [
      "Original: {'blue', 'yellow', 'orange', 'pink'}\n",
      "Modified: {'blue', 'yellow', 'orange', 'pink'}\n"
     ]
    }
   ],
   "source": [
    "colors_set_copy.remove('red')\n",
    "print(\"Original:\",colors_set)\n",
    "print(\"Modified:\",colors_set_copy)"
   ]
  },
  {
   "cell_type": "code",
   "execution_count": 30,
   "id": "8b534e7b",
   "metadata": {},
   "outputs": [
    {
     "name": "stdout",
     "output_type": "stream",
     "text": [
      "Original: {'blue', 'yellow', 'orange', 'pink'}\n",
      "Modified: {'blue', 'pink', 'orange', 'yellow'}\n"
     ]
    }
   ],
   "source": [
    "colors_set_copy=colors_set.copy()\n",
    "print(\"Original:\",colors_set)\n",
    "print(\"Modified:\",colors_set_copy)"
   ]
  },
  {
   "cell_type": "code",
   "execution_count": 31,
   "id": "e15928ff",
   "metadata": {},
   "outputs": [
    {
     "name": "stdout",
     "output_type": "stream",
     "text": [
      "Original: {'blue', 'yellow', 'orange', 'pink'}\n",
      "Modified: {'orange', 'blue', 'magenta', 'pink', 'yellow'}\n"
     ]
    }
   ],
   "source": [
    "colors_set_copy.add('magenta')\n",
    "print(\"Original:\",colors_set)\n",
    "print(\"Modified:\",colors_set_copy)\n"
   ]
  },
  {
   "cell_type": "code",
   "execution_count": 32,
   "id": "a704a910",
   "metadata": {},
   "outputs": [
    {
     "ename": "TypeError",
     "evalue": "unhashable type: 'list'",
     "output_type": "error",
     "traceback": [
      "\u001b[1;31m---------------------------------------------------------------------------\u001b[0m",
      "\u001b[1;31mTypeError\u001b[0m                                 Traceback (most recent call last)",
      "Input \u001b[1;32mIn [32]\u001b[0m, in \u001b[0;36m<cell line: 1>\u001b[1;34m()\u001b[0m\n\u001b[1;32m----> 1\u001b[0m colors_set\u001b[38;5;241m=\u001b[39m{\u001b[38;5;124m'\u001b[39m\u001b[38;5;124mblue\u001b[39m\u001b[38;5;124m'\u001b[39m,\u001b[38;5;124m'\u001b[39m\u001b[38;5;124mred\u001b[39m\u001b[38;5;124m'\u001b[39m,[\u001b[38;5;124m'\u001b[39m\u001b[38;5;124morange\u001b[39m\u001b[38;5;124m'\u001b[39m,\u001b[38;5;124m'\u001b[39m\u001b[38;5;124myellow\u001b[39m\u001b[38;5;124m'\u001b[39m],\u001b[38;5;124m'\u001b[39m\u001b[38;5;124mpink\u001b[39m\u001b[38;5;124m'\u001b[39m}\n",
      "\u001b[1;31mTypeError\u001b[0m: unhashable type: 'list'"
     ]
    }
   ],
   "source": [
    "colors_set={'blue','red',['orange','yellow'],'pink'}"
   ]
  },
  {
   "cell_type": "code",
   "execution_count": 33,
   "id": "4b0be241",
   "metadata": {},
   "outputs": [
    {
     "ename": "TypeError",
     "evalue": "unhashable type: 'dict'",
     "output_type": "error",
     "traceback": [
      "\u001b[1;31m---------------------------------------------------------------------------\u001b[0m",
      "\u001b[1;31mTypeError\u001b[0m                                 Traceback (most recent call last)",
      "Input \u001b[1;32mIn [33]\u001b[0m, in \u001b[0;36m<cell line: 1>\u001b[1;34m()\u001b[0m\n\u001b[1;32m----> 1\u001b[0m colors_set\u001b[38;5;241m=\u001b[39m{\u001b[38;5;124m'\u001b[39m\u001b[38;5;124mblue\u001b[39m\u001b[38;5;124m'\u001b[39m,\u001b[38;5;124m'\u001b[39m\u001b[38;5;124mred\u001b[39m\u001b[38;5;124m'\u001b[39m,{\u001b[38;5;241m1\u001b[39m:\u001b[38;5;124m'\u001b[39m\u001b[38;5;124morange\u001b[39m\u001b[38;5;124m'\u001b[39m,\u001b[38;5;241m2\u001b[39m:\u001b[38;5;124m'\u001b[39m\u001b[38;5;124myellow\u001b[39m\u001b[38;5;124m'\u001b[39m},\u001b[38;5;124m'\u001b[39m\u001b[38;5;124mpink\u001b[39m\u001b[38;5;124m'\u001b[39m}\n",
      "\u001b[1;31mTypeError\u001b[0m: unhashable type: 'dict'"
     ]
    }
   ],
   "source": [
    "colors_set={'blue','red',{1:'orange',2:'yellow'},'pink'}"
   ]
  },
  {
   "cell_type": "code",
   "execution_count": 35,
   "id": "931eca7e",
   "metadata": {},
   "outputs": [
    {
     "data": {
      "text/plain": [
       "{('orange', 'yellow'), 'blue', 'pink', 'red'}"
      ]
     },
     "execution_count": 35,
     "metadata": {},
     "output_type": "execute_result"
    }
   ],
   "source": [
    "colors_set={'blue','red',('orange','yellow'),'pink'}\n",
    "colors_set"
   ]
  },
  {
   "cell_type": "code",
   "execution_count": 36,
   "id": "a510e846",
   "metadata": {},
   "outputs": [
    {
     "data": {
      "text/plain": [
       "{1000: 'Python', 2000: ['Java', 'c#'], 3000: 'Javascrit', 4000: 'Golang'}"
      ]
     },
     "execution_count": 36,
     "metadata": {},
     "output_type": "execute_result"
    }
   ],
   "source": [
    "project_language={1000:\"Python\",\n",
    "                 2000:[\"Java\",\"c#\"],\n",
    "                 3000:\"Javascrit\",\n",
    "                 4000:\"Golang\"}\n",
    "project_language"
   ]
  },
  {
   "cell_type": "code",
   "execution_count": 37,
   "id": "31231579",
   "metadata": {},
   "outputs": [
    {
     "name": "stdout",
     "output_type": "stream",
     "text": [
      "Original: {1000: 'Python', 2000: ['Java', 'c#'], 3000: 'Javascrit', 4000: 'c#'}\n",
      "Modified: {1000: 'Python', 2000: ['Java', 'c#'], 3000: 'Javascrit', 4000: 'c#'}\n"
     ]
    }
   ],
   "source": [
    "project_language_copy=project_language\n",
    "project_language_copy[4000]=\"c#\"\n",
    "print(\"Original:\",project_language)\n",
    "print(\"Modified:\",project_language_copy)"
   ]
  },
  {
   "cell_type": "code",
   "execution_count": 38,
   "id": "b1e3231c",
   "metadata": {},
   "outputs": [
    {
     "data": {
      "text/plain": [
       "{1000: 'Pyrthon', 2000: ['Java', 'c#'], 3000: 'Javascript', 4000: 'Golang'}"
      ]
     },
     "execution_count": 38,
     "metadata": {},
     "output_type": "execute_result"
    }
   ],
   "source": [
    "project_language={1000:\"Pyrthon\",\n",
    "                 2000:[\"Java\",\"c#\"],\n",
    "                 3000:\"Javascript\",\n",
    "                 4000:\"Golang\"}\n",
    "project_language"
   ]
  },
  {
   "cell_type": "code",
   "execution_count": 39,
   "id": "d549a255",
   "metadata": {},
   "outputs": [
    {
     "name": "stdout",
     "output_type": "stream",
     "text": [
      "Origianal; {1000: 'Pyrthon', 2000: ['Java', 'c#'], 3000: 'Javascript', 4000: 'Golang'}\n",
      "modified: {1000: 'Pyrthon', 2000: ['Java', 'c#'], 3000: 'Javascript', 4000: 'c#'}\n"
     ]
    }
   ],
   "source": [
    "project_language_copy=project_language.copy()\n",
    "project_language_copy[4000]=\"c#\"\n",
    "\n",
    "print(\"Origianal;\",project_language)\n",
    "print(\"modified:\",project_language_copy)"
   ]
  },
  {
   "cell_type": "code",
   "execution_count": 41,
   "id": "d897e90d",
   "metadata": {},
   "outputs": [
    {
     "name": "stdout",
     "output_type": "stream",
     "text": [
      "Original: {1000: 'Pyrthon', 2000: ['scala', 'c#'], 3000: 'Javascript', 4000: 'Golang'}\n",
      "Modified: {1000: 'Pyrthon', 2000: ['scala', 'c#'], 3000: 'Javascript', 4000: 'c#'}\n"
     ]
    }
   ],
   "source": [
    "project_language_copy[2000][0]=\"scala\"\n",
    "\n",
    "print(\"Original:\",project_language)\n",
    "print(\"Modified:\",project_language_copy)"
   ]
  },
  {
   "cell_type": "code",
   "execution_count": 42,
   "id": "7e7b6f70",
   "metadata": {},
   "outputs": [
    {
     "data": {
      "text/plain": [
       "{1000: 'Python', 2000: ['Java', 'c#'], 3000: 'Javascript', 4000: 'Golang'}"
      ]
     },
     "execution_count": 42,
     "metadata": {},
     "output_type": "execute_result"
    }
   ],
   "source": [
    "project_language={1000:\"Python\",\n",
    "                 2000:[\"Java\",\"c#\"],\n",
    "                 3000:\"Javascript\",\n",
    "                 4000:\"Golang\"}\n",
    "project_language"
   ]
  },
  {
   "cell_type": "code",
   "execution_count": 43,
   "id": "09106b19",
   "metadata": {},
   "outputs": [],
   "source": [
    "from copy import deepcopy\n"
   ]
  },
  {
   "cell_type": "code",
   "execution_count": 46,
   "id": "b4100598",
   "metadata": {},
   "outputs": [
    {
     "name": "stdout",
     "output_type": "stream",
     "text": [
      "Original: {1000: 'Python', 2000: ['Java', 'c#'], 3000: 'Javascript', 4000: 'Golang'}\n",
      "Modified: {1000: 'Python', 2000: ['Java', 'c#'], 3000: 'Javascript', 4000: 'c#'}\n"
     ]
    }
   ],
   "source": [
    "project_language_copy=deepcopy(project_language)\n",
    "project_language_copy[4000]=\"c#\"\n",
    "print(\"Original:\",project_language)\n",
    "print(\"Modified:\",project_language_copy)"
   ]
  },
  {
   "cell_type": "code",
   "execution_count": 48,
   "id": "653d5269",
   "metadata": {},
   "outputs": [
    {
     "name": "stdout",
     "output_type": "stream",
     "text": [
      "Original: {1000: 'Python', 2000: ['Java', 'c#'], 3000: 'Javascript', 4000: 'Golang'}\n",
      "Modified: {1000: 'Python', 2000: ['Scala', 'c#'], 3000: 'Javascript', 4000: 'c#'}\n"
     ]
    }
   ],
   "source": [
    "project_language_copy[2000][0]=\"Scala\"\n",
    "print(\"Original:\",project_language)\n",
    "print(\"Modified:\",project_language_copy)"
   ]
  },
  {
   "cell_type": "code",
   "execution_count": null,
   "id": "e1961ce5",
   "metadata": {},
   "outputs": [],
   "source": []
  },
  {
   "cell_type": "code",
   "execution_count": null,
   "id": "36393cf0",
   "metadata": {},
   "outputs": [],
   "source": []
  },
  {
   "cell_type": "code",
   "execution_count": null,
   "id": "ed109c81",
   "metadata": {},
   "outputs": [],
   "source": []
  },
  {
   "cell_type": "code",
   "execution_count": null,
   "id": "1cb58ca3",
   "metadata": {},
   "outputs": [],
   "source": []
  },
  {
   "cell_type": "code",
   "execution_count": null,
   "id": "d14d5bbc",
   "metadata": {},
   "outputs": [],
   "source": []
  },
  {
   "cell_type": "code",
   "execution_count": null,
   "id": "28f26e32",
   "metadata": {},
   "outputs": [],
   "source": []
  },
  {
   "cell_type": "code",
   "execution_count": null,
   "id": "11a54bfe",
   "metadata": {},
   "outputs": [],
   "source": []
  },
  {
   "cell_type": "code",
   "execution_count": null,
   "id": "072d994a",
   "metadata": {},
   "outputs": [],
   "source": []
  },
  {
   "cell_type": "code",
   "execution_count": null,
   "id": "f5e98845",
   "metadata": {},
   "outputs": [],
   "source": []
  },
  {
   "cell_type": "code",
   "execution_count": null,
   "id": "cae3570a",
   "metadata": {},
   "outputs": [],
   "source": []
  },
  {
   "cell_type": "code",
   "execution_count": null,
   "id": "425c5827",
   "metadata": {},
   "outputs": [],
   "source": []
  },
  {
   "cell_type": "code",
   "execution_count": null,
   "id": "92c541be",
   "metadata": {},
   "outputs": [],
   "source": []
  }
 ],
 "metadata": {
  "kernelspec": {
   "display_name": "Python 3 (ipykernel)",
   "language": "python",
   "name": "python3"
  },
  "language_info": {
   "codemirror_mode": {
    "name": "ipython",
    "version": 3
   },
   "file_extension": ".py",
   "mimetype": "text/x-python",
   "name": "python",
   "nbconvert_exporter": "python",
   "pygments_lexer": "ipython3",
   "version": "3.9.12"
  }
 },
 "nbformat": 4,
 "nbformat_minor": 5
}
