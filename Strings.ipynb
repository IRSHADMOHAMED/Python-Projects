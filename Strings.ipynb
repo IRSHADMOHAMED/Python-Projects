{
 "cells": [
  {
   "cell_type": "code",
   "execution_count": 1,
   "id": "16b34d12",
   "metadata": {},
   "outputs": [
    {
     "data": {
      "text/plain": [
       "'Python allowsyou to define strings using singles quotes'"
      ]
     },
     "execution_count": 1,
     "metadata": {},
     "output_type": "execute_result"
    }
   ],
   "source": [
    "string_1='Python allowsyou to define strings using singles quotes'\n",
    "string_1"
   ]
  },
  {
   "cell_type": "code",
   "execution_count": 2,
   "id": "be4bdce6",
   "metadata": {},
   "outputs": [
    {
     "data": {
      "text/plain": [
       "'Python allows you to define strings using doubles quotes'"
      ]
     },
     "execution_count": 2,
     "metadata": {},
     "output_type": "execute_result"
    }
   ],
   "source": [
    "string_2=\"Python allows you to define strings using doubles quotes\"\n",
    "string_2"
   ]
  },
  {
   "cell_type": "code",
   "execution_count": 3,
   "id": "cfb29a13",
   "metadata": {},
   "outputs": [
    {
     "data": {
      "text/plain": [
       "'python allows yoy to define strings using triples quote'"
      ]
     },
     "execution_count": 3,
     "metadata": {},
     "output_type": "execute_result"
    }
   ],
   "source": [
    "string_3=\"\"\"python allows yoy to define strings using triples quote\"\"\"\n",
    "string_3"
   ]
  },
  {
   "cell_type": "code",
   "execution_count": 4,
   "id": "e181541c",
   "metadata": {},
   "outputs": [
    {
     "ename": "SyntaxError",
     "evalue": "EOL while scanning string literal (2668853822.py, line 1)",
     "output_type": "error",
     "traceback": [
      "\u001b[1;36m  Input \u001b[1;32mIn [4]\u001b[1;36m\u001b[0m\n\u001b[1;33m    multiline_string='strings cannot span multiple\u001b[0m\n\u001b[1;37m                                                   ^\u001b[0m\n\u001b[1;31mSyntaxError\u001b[0m\u001b[1;31m:\u001b[0m EOL while scanning string literal\n"
     ]
    }
   ],
   "source": [
    "multiline_string='strings cannot span multiple \n",
    "lines when enclosed in single quotes'"
   ]
  },
  {
   "cell_type": "code",
   "execution_count": 5,
   "id": "e7a8f22c",
   "metadata": {},
   "outputs": [
    {
     "ename": "SyntaxError",
     "evalue": "EOL while scanning string literal (1329336437.py, line 1)",
     "output_type": "error",
     "traceback": [
      "\u001b[1;36m  Input \u001b[1;32mIn [5]\u001b[1;36m\u001b[0m\n\u001b[1;33m    multiline_string=\"Strings cannot span multiple\u001b[0m\n\u001b[1;37m                                                   ^\u001b[0m\n\u001b[1;31mSyntaxError\u001b[0m\u001b[1;31m:\u001b[0m EOL while scanning string literal\n"
     ]
    }
   ],
   "source": [
    "multiline_string=\"Strings cannot span multiple \n",
    "lines when enclosed in double quotes\""
   ]
  },
  {
   "cell_type": "code",
   "execution_count": 6,
   "id": "c1574134",
   "metadata": {},
   "outputs": [
    {
     "data": {
      "text/plain": [
       "'string can span multiple\\nlines when enclosed in triple quotes'"
      ]
     },
     "execution_count": 6,
     "metadata": {},
     "output_type": "execute_result"
    }
   ],
   "source": [
    "multiline_string=\"\"\"string can span multiple\n",
    "lines when enclosed in triple quotes\"\"\"\n",
    "multiline_string"
   ]
  },
  {
   "cell_type": "code",
   "execution_count": 9,
   "id": "43e9c2d3",
   "metadata": {},
   "outputs": [],
   "source": [
    "nicely_formatted_string=\"\"\"\n",
    "Triples quotes are useful because\n",
    "you can format and display your strings nicely in code\n",
    "you can include'sinles quote' and \"Doubles quotes\"\n",
    "within the string\n",
    "\"\"\""
   ]
  },
  {
   "cell_type": "code",
   "execution_count": 10,
   "id": "e1dcc6fc",
   "metadata": {},
   "outputs": [
    {
     "data": {
      "text/plain": [
       "'\\nTriples quotes are useful because\\nyou can format and display your strings nicely in code\\nyou can include\\'sinles quote\\' and \"Doubles quotes\"\\nwithin the string\\n'"
      ]
     },
     "execution_count": 10,
     "metadata": {},
     "output_type": "execute_result"
    }
   ],
   "source": [
    "nicely_formatted_string"
   ]
  },
  {
   "cell_type": "code",
   "execution_count": 12,
   "id": "9428ff73",
   "metadata": {},
   "outputs": [
    {
     "name": "stdout",
     "output_type": "stream",
     "text": [
      "\n",
      "Triples quotes are useful because\n",
      "you can format and display your strings nicely in code\n",
      "you can include'sinles quote' and \"Doubles quotes\"\n",
      "within the string\n",
      "\n"
     ]
    }
   ],
   "source": [
    "print(nicely_formatted_string)"
   ]
  },
  {
   "cell_type": "markdown",
   "id": "15751982",
   "metadata": {},
   "source": [
    "#### Escaping special characters in strings\n",
    "Escaping can be performed using \\,',\"\n"
   ]
  },
  {
   "cell_type": "code",
   "execution_count": 13,
   "id": "a3d22b43",
   "metadata": {},
   "outputs": [
    {
     "data": {
      "text/plain": [
       "\"That happened to be Jack's baseball bat\""
      ]
     },
     "execution_count": 13,
     "metadata": {},
     "output_type": "execute_result"
    }
   ],
   "source": [
    "some_string='That happened to be Jack\\'s baseball bat'\n",
    "some_string"
   ]
  },
  {
   "cell_type": "code",
   "execution_count": 15,
   "id": "d0a7a2c9",
   "metadata": {},
   "outputs": [
    {
     "data": {
      "text/plain": [
       "'That happened to be Jacks baseball bat'"
      ]
     },
     "execution_count": 15,
     "metadata": {},
     "output_type": "execute_result"
    }
   ],
   "source": [
    "some_string=\"That happened to be Jacks baseball bat\"\n",
    "some_string\n"
   ]
  },
  {
   "cell_type": "code",
   "execution_count": 17,
   "id": "b717e43f",
   "metadata": {},
   "outputs": [
    {
     "data": {
      "text/plain": [
       "' I assigned the value of that variable to be \"Red\"'"
      ]
     },
     "execution_count": 17,
     "metadata": {},
     "output_type": "execute_result"
    }
   ],
   "source": [
    "another_string=\" I assigned the value of that variable to be \\\"Red\\\"\"\n",
    "another_string"
   ]
  },
  {
   "cell_type": "code",
   "execution_count": 18,
   "id": "2940d285",
   "metadata": {},
   "outputs": [
    {
     "name": "stdout",
     "output_type": "stream",
     "text": [
      "C:\\Users \\projects\n"
     ]
    }
   ],
   "source": [
    "print('C:\\\\Users \\\\projects')"
   ]
  },
  {
   "cell_type": "code",
   "execution_count": 19,
   "id": "54057327",
   "metadata": {},
   "outputs": [
    {
     "name": "stdout",
     "output_type": "stream",
     "text": [
      "Did you watch the game Last night?\t i stayed up to watch the end!\n"
     ]
    }
   ],
   "source": [
    "some_text=\"Did you watch the game Last night?\\t i stayed up to watch the end!\"\n",
    "print(some_text)"
   ]
  },
  {
   "cell_type": "code",
   "execution_count": 21,
   "id": "0b693a4e",
   "metadata": {},
   "outputs": [
    {
     "data": {
      "text/plain": [
       "' I love watching baseball on TV- yesterday i watched for 2 hours '"
      ]
     },
     "execution_count": 21,
     "metadata": {},
     "output_type": "execute_result"
    }
   ],
   "source": [
    "favorite_sport=\"baseball\"\n",
    "time_spend=2\n",
    "\" I love watching {} on TV- yesterday i watched for {} hours \".format (favorite_sport,time_spend)"
   ]
  },
  {
   "cell_type": "code",
   "execution_count": 22,
   "id": "478f7b61",
   "metadata": {},
   "outputs": [
    {
     "ename": "TypeError",
     "evalue": "not enough arguments for format string",
     "output_type": "error",
     "traceback": [
      "\u001b[1;31m---------------------------------------------------------------------------\u001b[0m",
      "\u001b[1;31mTypeError\u001b[0m                                 Traceback (most recent call last)",
      "Input \u001b[1;32mIn [22]\u001b[0m, in \u001b[0;36m<cell line: 2>\u001b[1;34m()\u001b[0m\n\u001b[0;32m      1\u001b[0m favorite_sport\u001b[38;5;241m=\u001b[39m\u001b[38;5;124m\"\u001b[39m\u001b[38;5;124msoccer\u001b[39m\u001b[38;5;124m\"\u001b[39m\n\u001b[1;32m----> 2\u001b[0m \u001b[38;5;124;43m\"\u001b[39;49m\u001b[38;5;124;43m I love watching \u001b[39;49m\u001b[38;5;132;43;01m%s\u001b[39;49;00m\u001b[38;5;124;43m on TV- yesterday i watched for \u001b[39;49m\u001b[38;5;132;43;01m%d\u001b[39;49;00m\u001b[38;5;124;43m Hours\u001b[39;49m\u001b[38;5;124;43m\"\u001b[39;49m\u001b[38;5;241;43m%\u001b[39;49m\u001b[43mfavorite_sport\u001b[49m\n",
      "\u001b[1;31mTypeError\u001b[0m: not enough arguments for format string"
     ]
    }
   ],
   "source": [
    "favorite_sport=\"soccer\"\n",
    "\" I love watching %s on TV- yesterday i watched for %d Hours\"%favorite_sport\n"
   ]
  },
  {
   "cell_type": "code",
   "execution_count": 24,
   "id": "d4ac5ee6",
   "metadata": {},
   "outputs": [
    {
     "data": {
      "text/plain": [
       "' I love watching cricket on TV -yesterday i watched for 3 hours'"
      ]
     },
     "execution_count": 24,
     "metadata": {},
     "output_type": "execute_result"
    }
   ],
   "source": [
    "favorite_sport=\"cricket\"\n",
    "time_spent=3\n",
    "\" I love watching %s on TV -yesterday i watched for %d hours\"%(favorite_sport,time_spent)"
   ]
  },
  {
   "cell_type": "code",
   "execution_count": 25,
   "id": "d641e45c",
   "metadata": {},
   "outputs": [
    {
     "data": {
      "text/plain": [
       "' I love watching basket ball on TV-yesterday I watched for 2.5 hours'"
      ]
     },
     "execution_count": 25,
     "metadata": {},
     "output_type": "execute_result"
    }
   ],
   "source": [
    "favorite_sport=\"basket ball\"\n",
    "time_spent=2.5\n",
    "f\" I love watching {favorite_sport} on TV-yesterday I watched for {time_spent} hours\""
   ]
  },
  {
   "cell_type": "code",
   "execution_count": null,
   "id": "373bb294",
   "metadata": {},
   "outputs": [],
   "source": []
  },
  {
   "cell_type": "code",
   "execution_count": null,
   "id": "74f1164d",
   "metadata": {},
   "outputs": [],
   "source": []
  },
  {
   "cell_type": "code",
   "execution_count": null,
   "id": "83a26096",
   "metadata": {},
   "outputs": [],
   "source": []
  },
  {
   "cell_type": "code",
   "execution_count": null,
   "id": "750cafd2",
   "metadata": {},
   "outputs": [],
   "source": []
  },
  {
   "cell_type": "code",
   "execution_count": null,
   "id": "30f6b3db",
   "metadata": {},
   "outputs": [],
   "source": []
  },
  {
   "cell_type": "code",
   "execution_count": null,
   "id": "93b0a702",
   "metadata": {},
   "outputs": [],
   "source": []
  },
  {
   "cell_type": "code",
   "execution_count": null,
   "id": "d5a706ad",
   "metadata": {},
   "outputs": [],
   "source": []
  },
  {
   "cell_type": "code",
   "execution_count": null,
   "id": "191759ce",
   "metadata": {},
   "outputs": [],
   "source": []
  },
  {
   "cell_type": "code",
   "execution_count": null,
   "id": "3179f812",
   "metadata": {},
   "outputs": [],
   "source": []
  },
  {
   "cell_type": "code",
   "execution_count": null,
   "id": "0ee0a7c0",
   "metadata": {},
   "outputs": [],
   "source": []
  },
  {
   "cell_type": "code",
   "execution_count": null,
   "id": "7578db7b",
   "metadata": {},
   "outputs": [],
   "source": []
  },
  {
   "cell_type": "code",
   "execution_count": null,
   "id": "12da66e2",
   "metadata": {},
   "outputs": [],
   "source": []
  },
  {
   "cell_type": "code",
   "execution_count": null,
   "id": "3051fdf2",
   "metadata": {},
   "outputs": [],
   "source": []
  },
  {
   "cell_type": "code",
   "execution_count": null,
   "id": "317c2932",
   "metadata": {},
   "outputs": [],
   "source": []
  }
 ],
 "metadata": {
  "kernelspec": {
   "display_name": "Python 3 (ipykernel)",
   "language": "python",
   "name": "python3"
  },
  "language_info": {
   "codemirror_mode": {
    "name": "ipython",
    "version": 3
   },
   "file_extension": ".py",
   "mimetype": "text/x-python",
   "name": "python",
   "nbconvert_exporter": "python",
   "pygments_lexer": "ipython3",
   "version": "3.9.12"
  }
 },
 "nbformat": 4,
 "nbformat_minor": 5
}
