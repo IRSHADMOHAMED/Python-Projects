{
 "cells": [
  {
   "cell_type": "code",
   "execution_count": 1,
   "id": "624a6b54",
   "metadata": {},
   "outputs": [],
   "source": [
    "my_list=[]\n"
   ]
  },
  {
   "cell_type": "code",
   "execution_count": 2,
   "id": "bcba98f2",
   "metadata": {},
   "outputs": [
    {
     "name": "stdout",
     "output_type": "stream",
     "text": [
      "[]\n"
     ]
    }
   ],
   "source": [
    "print(my_list)"
   ]
  },
  {
   "cell_type": "code",
   "execution_count": 3,
   "id": "a6ba3b14",
   "metadata": {},
   "outputs": [
    {
     "data": {
      "text/plain": [
       "[]"
      ]
     },
     "execution_count": 3,
     "metadata": {},
     "output_type": "execute_result"
    }
   ],
   "source": [
    "empty_list=list()\n",
    "empty_list"
   ]
  },
  {
   "cell_type": "code",
   "execution_count": 4,
   "id": "9402014b",
   "metadata": {},
   "outputs": [
    {
     "data": {
      "text/plain": [
       "['Badminton', 'Golf', 'Basket ball', 'Tennis']"
      ]
     },
     "execution_count": 4,
     "metadata": {},
     "output_type": "execute_result"
    }
   ],
   "source": [
    "games_list=['Badminton','Golf','Basket ball','Tennis']\n",
    "games_list"
   ]
  },
  {
   "cell_type": "code",
   "execution_count": 5,
   "id": "7619f0c1",
   "metadata": {},
   "outputs": [
    {
     "data": {
      "text/plain": [
       "list"
      ]
     },
     "execution_count": 5,
     "metadata": {},
     "output_type": "execute_result"
    }
   ],
   "source": [
    "type(games_list)"
   ]
  },
  {
   "cell_type": "code",
   "execution_count": 6,
   "id": "8b137ff1",
   "metadata": {},
   "outputs": [
    {
     "data": {
      "text/plain": [
       "'Badminton'"
      ]
     },
     "execution_count": 6,
     "metadata": {},
     "output_type": "execute_result"
    }
   ],
   "source": [
    "games_list[0]"
   ]
  },
  {
   "cell_type": "code",
   "execution_count": 8,
   "id": "9235f68b",
   "metadata": {},
   "outputs": [
    {
     "data": {
      "text/plain": [
       "'Golf'"
      ]
     },
     "execution_count": 8,
     "metadata": {},
     "output_type": "execute_result"
    }
   ],
   "source": [
    "games_list[1]"
   ]
  },
  {
   "cell_type": "code",
   "execution_count": 9,
   "id": "f33202b9",
   "metadata": {},
   "outputs": [
    {
     "data": {
      "text/plain": [
       "'Basket ball'"
      ]
     },
     "execution_count": 9,
     "metadata": {},
     "output_type": "execute_result"
    }
   ],
   "source": [
    "games_list[2]"
   ]
  },
  {
   "cell_type": "code",
   "execution_count": 10,
   "id": "d62b83c2",
   "metadata": {},
   "outputs": [
    {
     "data": {
      "text/plain": [
       "'Tennis'"
      ]
     },
     "execution_count": 10,
     "metadata": {},
     "output_type": "execute_result"
    }
   ],
   "source": [
    "games_list[3]"
   ]
  },
  {
   "cell_type": "code",
   "execution_count": 11,
   "id": "1c974aaa",
   "metadata": {},
   "outputs": [
    {
     "ename": "NameError",
     "evalue": "name 'game_list' is not defined",
     "output_type": "error",
     "traceback": [
      "\u001b[1;31m---------------------------------------------------------------------------\u001b[0m",
      "\u001b[1;31mNameError\u001b[0m                                 Traceback (most recent call last)",
      "Input \u001b[1;32mIn [11]\u001b[0m, in \u001b[0;36m<cell line: 1>\u001b[1;34m()\u001b[0m\n\u001b[1;32m----> 1\u001b[0m \u001b[43mgame_list\u001b[49m[\u001b[38;5;241m4\u001b[39m]\n",
      "\u001b[1;31mNameError\u001b[0m: name 'game_list' is not defined"
     ]
    }
   ],
   "source": [
    "game_list[4]"
   ]
  },
  {
   "cell_type": "code",
   "execution_count": 12,
   "id": "b5cc75c7",
   "metadata": {},
   "outputs": [
    {
     "data": {
      "text/plain": [
       "['Badminton', 'Golf', 'Basket ball', 'Tennis']"
      ]
     },
     "execution_count": 12,
     "metadata": {},
     "output_type": "execute_result"
    }
   ],
   "source": [
    "games_list"
   ]
  },
  {
   "cell_type": "code",
   "execution_count": 13,
   "id": "2390e75a",
   "metadata": {},
   "outputs": [
    {
     "data": {
      "text/plain": [
       "'Tennis'"
      ]
     },
     "execution_count": 13,
     "metadata": {},
     "output_type": "execute_result"
    }
   ],
   "source": [
    "games_list[-1]"
   ]
  },
  {
   "cell_type": "code",
   "execution_count": 14,
   "id": "775aeed5",
   "metadata": {},
   "outputs": [
    {
     "data": {
      "text/plain": [
       "'Basket ball'"
      ]
     },
     "execution_count": 14,
     "metadata": {},
     "output_type": "execute_result"
    }
   ],
   "source": [
    "games_list[-2]"
   ]
  },
  {
   "cell_type": "code",
   "execution_count": 15,
   "id": "d13a2c33",
   "metadata": {},
   "outputs": [
    {
     "data": {
      "text/plain": [
       "'Golf'"
      ]
     },
     "execution_count": 15,
     "metadata": {},
     "output_type": "execute_result"
    }
   ],
   "source": [
    "games_list[-3]"
   ]
  },
  {
   "cell_type": "code",
   "execution_count": 16,
   "id": "654b4de0",
   "metadata": {},
   "outputs": [
    {
     "ename": "IndexError",
     "evalue": "list index out of range",
     "output_type": "error",
     "traceback": [
      "\u001b[1;31m---------------------------------------------------------------------------\u001b[0m",
      "\u001b[1;31mIndexError\u001b[0m                                Traceback (most recent call last)",
      "Input \u001b[1;32mIn [16]\u001b[0m, in \u001b[0;36m<cell line: 1>\u001b[1;34m()\u001b[0m\n\u001b[1;32m----> 1\u001b[0m \u001b[43mgames_list\u001b[49m\u001b[43m[\u001b[49m\u001b[38;5;241;43m-\u001b[39;49m\u001b[38;5;241;43m5\u001b[39;49m\u001b[43m]\u001b[49m\n",
      "\u001b[1;31mIndexError\u001b[0m: list index out of range"
     ]
    }
   ],
   "source": [
    "games_list[-5]"
   ]
  },
  {
   "cell_type": "code",
   "execution_count": 17,
   "id": "1812729c",
   "metadata": {},
   "outputs": [
    {
     "data": {
      "text/plain": [
       "[10, 20, 30, 40, 50]"
      ]
     },
     "execution_count": 17,
     "metadata": {},
     "output_type": "execute_result"
    }
   ],
   "source": [
    "integers_list=[10,20,30,40,50]\n",
    "integers_list"
   ]
  },
  {
   "cell_type": "code",
   "execution_count": 18,
   "id": "5ffb19a0",
   "metadata": {},
   "outputs": [
    {
     "data": {
      "text/plain": [
       "[5.7, 6.5, 90.2, 82.8, 3.5, 9.0]"
      ]
     },
     "execution_count": 18,
     "metadata": {},
     "output_type": "execute_result"
    }
   ],
   "source": [
    "float_list=[5.7,6.5,90.2,82.8,3.5,9.0]\n",
    "float_list"
   ]
  },
  {
   "cell_type": "code",
   "execution_count": 19,
   "id": "97a5cfe1",
   "metadata": {},
   "outputs": [
    {
     "data": {
      "text/plain": [
       "[True, False, True, False]"
      ]
     },
     "execution_count": 19,
     "metadata": {},
     "output_type": "execute_result"
    }
   ],
   "source": [
    "boolean_list=[True,False,True,False]\n",
    "boolean_list"
   ]
  },
  {
   "cell_type": "code",
   "execution_count": 20,
   "id": "b73a1cd8",
   "metadata": {},
   "outputs": [
    {
     "data": {
      "text/plain": [
       "4"
      ]
     },
     "execution_count": 20,
     "metadata": {},
     "output_type": "execute_result"
    }
   ],
   "source": [
    "len(games_list)"
   ]
  },
  {
   "cell_type": "code",
   "execution_count": 21,
   "id": "6b910aea",
   "metadata": {},
   "outputs": [
    {
     "data": {
      "text/plain": [
       "5"
      ]
     },
     "execution_count": 21,
     "metadata": {},
     "output_type": "execute_result"
    }
   ],
   "source": [
    "len(integers_list)"
   ]
  },
  {
   "cell_type": "code",
   "execution_count": 22,
   "id": "653a944d",
   "metadata": {},
   "outputs": [
    {
     "data": {
      "text/plain": [
       "['Nancy', 'Peter', 12, 13, 4.5, 9.8, True, False]"
      ]
     },
     "execution_count": 22,
     "metadata": {},
     "output_type": "execute_result"
    }
   ],
   "source": [
    "mixed_list=[\"Nancy\",\"Peter\",12,13,4.5,9.8,True,False]\n",
    "mixed_list"
   ]
  },
  {
   "cell_type": "code",
   "execution_count": 23,
   "id": "b85c6bc1",
   "metadata": {},
   "outputs": [
    {
     "data": {
      "text/plain": [
       "8"
      ]
     },
     "execution_count": 23,
     "metadata": {},
     "output_type": "execute_result"
    }
   ],
   "source": [
    "len(mixed_list)"
   ]
  },
  {
   "cell_type": "code",
   "execution_count": 24,
   "id": "33e729cd",
   "metadata": {},
   "outputs": [
    {
     "data": {
      "text/plain": [
       "['Badminton', 'Golf', 'Basket ball', 'Tennis']"
      ]
     },
     "execution_count": 24,
     "metadata": {},
     "output_type": "execute_result"
    }
   ],
   "source": [
    "games_list"
   ]
  },
  {
   "cell_type": "code",
   "execution_count": 26,
   "id": "0fa64d3d",
   "metadata": {},
   "outputs": [
    {
     "data": {
      "text/plain": [
       "['soccer', 'Golf', 'Basket ball', 'Tennis']"
      ]
     },
     "execution_count": 26,
     "metadata": {},
     "output_type": "execute_result"
    }
   ],
   "source": [
    "games_list[0]=\"soccer\"\n",
    "games_list"
   ]
  },
  {
   "cell_type": "code",
   "execution_count": 27,
   "id": "740705a0",
   "metadata": {},
   "outputs": [
    {
     "data": {
      "text/plain": [
       "[10, 20, 30, 40, 50]"
      ]
     },
     "execution_count": 27,
     "metadata": {},
     "output_type": "execute_result"
    }
   ],
   "source": [
    "integers_list"
   ]
  },
  {
   "cell_type": "code",
   "execution_count": 28,
   "id": "4cd40072",
   "metadata": {},
   "outputs": [
    {
     "data": {
      "text/plain": [
       "[10, 120, 30, 40, 50]"
      ]
     },
     "execution_count": 28,
     "metadata": {},
     "output_type": "execute_result"
    }
   ],
   "source": [
    "integers_list[1]+=100\n",
    "integers_list"
   ]
  },
  {
   "cell_type": "code",
   "execution_count": 29,
   "id": "bbf9fa32",
   "metadata": {},
   "outputs": [
    {
     "data": {
      "text/plain": [
       "[10, 120, 30, 40, 500]"
      ]
     },
     "execution_count": 29,
     "metadata": {},
     "output_type": "execute_result"
    }
   ],
   "source": [
    "integers_list[4]*=10\n",
    "integers_list"
   ]
  },
  {
   "cell_type": "code",
   "execution_count": 30,
   "id": "5f4c26c6",
   "metadata": {},
   "outputs": [
    {
     "ename": "TypeError",
     "evalue": "list expected at most 1 argument, got 4",
     "output_type": "error",
     "traceback": [
      "\u001b[1;31m---------------------------------------------------------------------------\u001b[0m",
      "\u001b[1;31mTypeError\u001b[0m                                 Traceback (most recent call last)",
      "Input \u001b[1;32mIn [30]\u001b[0m, in \u001b[0;36m<cell line: 1>\u001b[1;34m()\u001b[0m\n\u001b[1;32m----> 1\u001b[0m fruit_list\u001b[38;5;241m=\u001b[39m\u001b[38;5;28;43mlist\u001b[39;49m\u001b[43m(\u001b[49m\u001b[38;5;124;43m\"\u001b[39;49m\u001b[38;5;124;43mapples\u001b[39;49m\u001b[38;5;124;43m\"\u001b[39;49m\u001b[43m,\u001b[49m\u001b[38;5;124;43m\"\u001b[39;49m\u001b[38;5;124;43mbananas\u001b[39;49m\u001b[38;5;124;43m\"\u001b[39;49m\u001b[43m,\u001b[49m\u001b[38;5;124;43m\"\u001b[39;49m\u001b[38;5;124;43mpears\u001b[39;49m\u001b[38;5;124;43m\"\u001b[39;49m\u001b[43m,\u001b[49m\u001b[38;5;124;43m\"\u001b[39;49m\u001b[38;5;124;43mmangoes\u001b[39;49m\u001b[38;5;124;43m\"\u001b[39;49m\u001b[43m)\u001b[49m\n\u001b[0;32m      2\u001b[0m fruit_list\n",
      "\u001b[1;31mTypeError\u001b[0m: list expected at most 1 argument, got 4"
     ]
    }
   ],
   "source": [
    "fruit_list=list(\"apples\",\"bananas\",\"pears\",\"mangoes\")\n",
    "fruit_list"
   ]
  },
  {
   "cell_type": "code",
   "execution_count": 32,
   "id": "b0c6e593",
   "metadata": {},
   "outputs": [
    {
     "data": {
      "text/plain": [
       "['apples', 'bananas', 'pears', 'mangoes']"
      ]
     },
     "execution_count": 32,
     "metadata": {},
     "output_type": "execute_result"
    }
   ],
   "source": [
    "fruit_list=list((\"apples\",\"bananas\",\"pears\",\"mangoes\"))\n",
    "fruit_list"
   ]
  },
  {
   "cell_type": "code",
   "execution_count": 33,
   "id": "22a0903d",
   "metadata": {},
   "outputs": [
    {
     "data": {
      "text/plain": [
       "['apples', 'bananas', 'pears', 'mangoes', 'apples']"
      ]
     },
     "execution_count": 33,
     "metadata": {},
     "output_type": "execute_result"
    }
   ],
   "source": [
    "fruit_list=[\"apples\",\"bananas\",\"pears\",\"mangoes\",\"apples\"]\n",
    "fruit_list"
   ]
  },
  {
   "cell_type": "code",
   "execution_count": 34,
   "id": "85be8fb7",
   "metadata": {},
   "outputs": [
    {
     "data": {
      "text/plain": [
       "[10, 120, 30, 40, 500]"
      ]
     },
     "execution_count": 34,
     "metadata": {},
     "output_type": "execute_result"
    }
   ],
   "source": [
    "integers_list"
   ]
  },
  {
   "cell_type": "code",
   "execution_count": 35,
   "id": "29f42b40",
   "metadata": {},
   "outputs": [
    {
     "data": {
      "text/plain": [
       "700"
      ]
     },
     "execution_count": 35,
     "metadata": {},
     "output_type": "execute_result"
    }
   ],
   "source": [
    "sum(integers_list)"
   ]
  },
  {
   "cell_type": "code",
   "execution_count": 36,
   "id": "d56e8354",
   "metadata": {},
   "outputs": [
    {
     "data": {
      "text/plain": [
       "[5.7, 6.5, 90.2, 82.8, 3.5, 9.0]"
      ]
     },
     "execution_count": 36,
     "metadata": {},
     "output_type": "execute_result"
    }
   ],
   "source": [
    "float_list"
   ]
  },
  {
   "cell_type": "code",
   "execution_count": 37,
   "id": "8ef3a146",
   "metadata": {},
   "outputs": [
    {
     "data": {
      "text/plain": [
       "90.2"
      ]
     },
     "execution_count": 37,
     "metadata": {},
     "output_type": "execute_result"
    }
   ],
   "source": [
    "max(float_list)"
   ]
  },
  {
   "cell_type": "code",
   "execution_count": 38,
   "id": "57a0f227",
   "metadata": {},
   "outputs": [
    {
     "data": {
      "text/plain": [
       "10"
      ]
     },
     "execution_count": 38,
     "metadata": {},
     "output_type": "execute_result"
    }
   ],
   "source": [
    "min(integers_list)"
   ]
  },
  {
   "cell_type": "code",
   "execution_count": 39,
   "id": "2acd6de9",
   "metadata": {},
   "outputs": [
    {
     "data": {
      "text/plain": [
       "['Soccer', 'Golf', 'Basket Ball', 'Table Tennis', 'Tennis', 'Skating']"
      ]
     },
     "execution_count": 39,
     "metadata": {},
     "output_type": "execute_result"
    }
   ],
   "source": [
    "games_list=['Soccer','Golf','Basket Ball','Table Tennis',\"Tennis\",\"Skating\"]\n",
    "games_list\n"
   ]
  },
  {
   "cell_type": "code",
   "execution_count": 42,
   "id": "bc3b6fc3",
   "metadata": {},
   "outputs": [
    {
     "data": {
      "text/plain": [
       "['Soccer', 'Golf']"
      ]
     },
     "execution_count": 42,
     "metadata": {},
     "output_type": "execute_result"
    }
   ],
   "source": [
    "games_list[0:2]"
   ]
  },
  {
   "cell_type": "code",
   "execution_count": 43,
   "id": "027ea9d8",
   "metadata": {},
   "outputs": [
    {
     "data": {
      "text/plain": [
       "['Golf', 'Basket Ball', 'Table Tennis']"
      ]
     },
     "execution_count": 43,
     "metadata": {},
     "output_type": "execute_result"
    }
   ],
   "source": [
    "games_list[1:4]"
   ]
  },
  {
   "cell_type": "code",
   "execution_count": 44,
   "id": "9e765b82",
   "metadata": {},
   "outputs": [
    {
     "data": {
      "text/plain": [
       "['Golf', 'Basket Ball', 'Table Tennis', 'Tennis', 'Skating']"
      ]
     },
     "execution_count": 44,
     "metadata": {},
     "output_type": "execute_result"
    }
   ],
   "source": [
    "games_list[1:6]"
   ]
  },
  {
   "cell_type": "code",
   "execution_count": 45,
   "id": "d5491026",
   "metadata": {},
   "outputs": [
    {
     "data": {
      "text/plain": [
       "['Golf', 'Basket Ball', 'Table Tennis', 'Tennis', 'Skating']"
      ]
     },
     "execution_count": 45,
     "metadata": {},
     "output_type": "execute_result"
    }
   ],
   "source": [
    "games_list[1:6:1]"
   ]
  },
  {
   "cell_type": "code",
   "execution_count": 46,
   "id": "c371bf16",
   "metadata": {},
   "outputs": [
    {
     "data": {
      "text/plain": [
       "['Golf', 'Table Tennis', 'Skating']"
      ]
     },
     "execution_count": 46,
     "metadata": {},
     "output_type": "execute_result"
    }
   ],
   "source": [
    "games_list[1:6:2]"
   ]
  },
  {
   "cell_type": "code",
   "execution_count": 47,
   "id": "5fff8bf5",
   "metadata": {},
   "outputs": [
    {
     "data": {
      "text/plain": [
       "['Golf', 'Tennis']"
      ]
     },
     "execution_count": 47,
     "metadata": {},
     "output_type": "execute_result"
    }
   ],
   "source": [
    "games_list[1:6:3]"
   ]
  },
  {
   "cell_type": "code",
   "execution_count": 49,
   "id": "9d4c4082",
   "metadata": {},
   "outputs": [
    {
     "data": {
      "text/plain": [
       "['Soccer', 'Golf', 'Basket Ball', 'Table Tennis']"
      ]
     },
     "execution_count": 49,
     "metadata": {},
     "output_type": "execute_result"
    }
   ],
   "source": [
    "games_list[:4]"
   ]
  },
  {
   "cell_type": "code",
   "execution_count": 50,
   "id": "6397d8c1",
   "metadata": {},
   "outputs": [
    {
     "data": {
      "text/plain": [
       "['Basket Ball', 'Table Tennis', 'Tennis', 'Skating']"
      ]
     },
     "execution_count": 50,
     "metadata": {},
     "output_type": "execute_result"
    }
   ],
   "source": [
    "games_list[2:]"
   ]
  },
  {
   "cell_type": "code",
   "execution_count": 51,
   "id": "bfd59f4f",
   "metadata": {},
   "outputs": [
    {
     "data": {
      "text/plain": [
       "['Soccer', 'Golf', 'Basket Ball', 'Table Tennis', 'Tennis', 'Skating']"
      ]
     },
     "execution_count": 51,
     "metadata": {},
     "output_type": "execute_result"
    }
   ],
   "source": [
    "games_list[:]"
   ]
  },
  {
   "cell_type": "code",
   "execution_count": 52,
   "id": "cb4cb939",
   "metadata": {},
   "outputs": [
    {
     "data": {
      "text/plain": [
       "['Soccer', 'Golf', 'Basket Ball', 'Table Tennis', 'Tennis', 'Skating']"
      ]
     },
     "execution_count": 52,
     "metadata": {},
     "output_type": "execute_result"
    }
   ],
   "source": [
    "games_list[::]"
   ]
  },
  {
   "cell_type": "code",
   "execution_count": 53,
   "id": "bc3ed255",
   "metadata": {},
   "outputs": [
    {
     "data": {
      "text/plain": [
       "['Soccer', 'Golf', 'Basket Ball', 'Table Tennis', 'Tennis']"
      ]
     },
     "execution_count": 53,
     "metadata": {},
     "output_type": "execute_result"
    }
   ],
   "source": [
    "games_list[:-1]"
   ]
  },
  {
   "cell_type": "code",
   "execution_count": 54,
   "id": "91209f16",
   "metadata": {},
   "outputs": [
    {
     "data": {
      "text/plain": [
       "['Golf', 'Basket Ball', 'Table Tennis', 'Tennis']"
      ]
     },
     "execution_count": 54,
     "metadata": {},
     "output_type": "execute_result"
    }
   ],
   "source": [
    "games_list[-5:-1]"
   ]
  },
  {
   "cell_type": "code",
   "execution_count": 55,
   "id": "f59bc681",
   "metadata": {},
   "outputs": [
    {
     "data": {
      "text/plain": [
       "['Skating', 'Tennis', 'Table Tennis', 'Basket Ball', 'Golf', 'Soccer']"
      ]
     },
     "execution_count": 55,
     "metadata": {},
     "output_type": "execute_result"
    }
   ],
   "source": [
    "games_list[::-1]"
   ]
  },
  {
   "cell_type": "code",
   "execution_count": null,
   "id": "072c4bdc",
   "metadata": {},
   "outputs": [],
   "source": []
  },
  {
   "cell_type": "code",
   "execution_count": null,
   "id": "48e803fa",
   "metadata": {},
   "outputs": [],
   "source": []
  },
  {
   "cell_type": "code",
   "execution_count": null,
   "id": "da5eb13e",
   "metadata": {},
   "outputs": [],
   "source": []
  },
  {
   "cell_type": "code",
   "execution_count": null,
   "id": "947be73e",
   "metadata": {},
   "outputs": [],
   "source": []
  },
  {
   "cell_type": "code",
   "execution_count": null,
   "id": "d105f531",
   "metadata": {},
   "outputs": [],
   "source": []
  },
  {
   "cell_type": "code",
   "execution_count": null,
   "id": "b110689e",
   "metadata": {},
   "outputs": [],
   "source": []
  },
  {
   "cell_type": "code",
   "execution_count": null,
   "id": "9f48838f",
   "metadata": {},
   "outputs": [],
   "source": []
  },
  {
   "cell_type": "code",
   "execution_count": null,
   "id": "c34ccd8d",
   "metadata": {},
   "outputs": [],
   "source": []
  },
  {
   "cell_type": "code",
   "execution_count": null,
   "id": "932c7e3d",
   "metadata": {},
   "outputs": [],
   "source": []
  },
  {
   "cell_type": "code",
   "execution_count": null,
   "id": "0f1c9be8",
   "metadata": {},
   "outputs": [],
   "source": []
  },
  {
   "cell_type": "code",
   "execution_count": null,
   "id": "8d1714bf",
   "metadata": {},
   "outputs": [],
   "source": []
  },
  {
   "cell_type": "code",
   "execution_count": null,
   "id": "db437839",
   "metadata": {},
   "outputs": [],
   "source": []
  },
  {
   "cell_type": "code",
   "execution_count": null,
   "id": "23bbe2c0",
   "metadata": {},
   "outputs": [],
   "source": []
  },
  {
   "cell_type": "code",
   "execution_count": null,
   "id": "02622e09",
   "metadata": {},
   "outputs": [],
   "source": []
  },
  {
   "cell_type": "code",
   "execution_count": null,
   "id": "f5f64d54",
   "metadata": {},
   "outputs": [],
   "source": []
  }
 ],
 "metadata": {
  "kernelspec": {
   "display_name": "Python 3 (ipykernel)",
   "language": "python",
   "name": "python3"
  },
  "language_info": {
   "codemirror_mode": {
    "name": "ipython",
    "version": 3
   },
   "file_extension": ".py",
   "mimetype": "text/x-python",
   "name": "python",
   "nbconvert_exporter": "python",
   "pygments_lexer": "ipython3",
   "version": "3.9.12"
  }
 },
 "nbformat": 4,
 "nbformat_minor": 5
}
