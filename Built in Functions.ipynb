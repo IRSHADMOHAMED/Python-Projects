{
 "cells": [
  {
   "cell_type": "markdown",
   "id": "a9b154a4",
   "metadata": {},
   "source": [
    "### Built in functions\n",
    "\n",
    "-Part of the core python programming language\n",
    "\n",
    "-Do not need any additional import statements to use\n",
    "\n",
    "-functions defined in the global name space\n",
    "\n",
    "-Do not name variables with the same nameas built-infunctions"
   ]
  },
  {
   "cell_type": "code",
   "execution_count": 1,
   "id": "33109f70",
   "metadata": {},
   "outputs": [
    {
     "data": {
      "text/plain": [
       "<function print>"
      ]
     },
     "execution_count": 1,
     "metadata": {},
     "output_type": "execute_result"
    }
   ],
   "source": [
    "print"
   ]
  },
  {
   "cell_type": "code",
   "execution_count": 2,
   "id": "8147af43",
   "metadata": {},
   "outputs": [
    {
     "name": "stdout",
     "output_type": "stream",
     "text": [
      "\n"
     ]
    }
   ],
   "source": [
    "print()"
   ]
  },
  {
   "cell_type": "code",
   "execution_count": 3,
   "id": "2cbc7b36",
   "metadata": {},
   "outputs": [
    {
     "name": "stdout",
     "output_type": "stream",
     "text": [
      "This is a Beautiful Day!\n"
     ]
    }
   ],
   "source": [
    "print(\"This is a Beautiful Day!\")"
   ]
  },
  {
   "cell_type": "code",
   "execution_count": 4,
   "id": "52c46845",
   "metadata": {},
   "outputs": [
    {
     "name": "stdout",
     "output_type": "stream",
     "text": [
      "The Final Result is: 47\n"
     ]
    }
   ],
   "source": [
    "result=2+45\n",
    "print(\"The Final Result is:\",result)"
   ]
  },
  {
   "cell_type": "code",
   "execution_count": 5,
   "id": "a8ece27f",
   "metadata": {},
   "outputs": [
    {
     "name": "stdout",
     "output_type": "stream",
     "text": [
      "The Final Result is:47\n"
     ]
    }
   ],
   "source": [
    "print(\"The Final Result is\",result,sep=\":\")"
   ]
  },
  {
   "cell_type": "code",
   "execution_count": 6,
   "id": "49499a4f",
   "metadata": {},
   "outputs": [
    {
     "name": "stdout",
     "output_type": "stream",
     "text": [
      "The Final Result is:47*"
     ]
    }
   ],
   "source": [
    "print(\"The Final Result is\",result,sep=\":\",end=\"*\")"
   ]
  },
  {
   "cell_type": "markdown",
   "id": "e3b12a31",
   "metadata": {},
   "source": [
    "The Print statement used to be supportedin python 2 but itd no longer support in python 3.python 3 only supportsthe print() function.\n"
   ]
  },
  {
   "cell_type": "code",
   "execution_count": 7,
   "id": "b68d4547",
   "metadata": {},
   "outputs": [
    {
     "ename": "SyntaxError",
     "evalue": "invalid syntax (2550930468.py, line 1)",
     "output_type": "error",
     "traceback": [
      "\u001b[1;36m  Input \u001b[1;32mIn [7]\u001b[1;36m\u001b[0m\n\u001b[1;33m    print\"This is a beautiful Day!\"\u001b[0m\n\u001b[1;37m         ^\u001b[0m\n\u001b[1;31mSyntaxError\u001b[0m\u001b[1;31m:\u001b[0m invalid syntax\n"
     ]
    }
   ],
   "source": [
    "print\"This is a beautiful Day!\""
   ]
  },
  {
   "cell_type": "code",
   "execution_count": 8,
   "id": "91fe467e",
   "metadata": {},
   "outputs": [
    {
     "name": "stdout",
     "output_type": "stream",
     "text": [
      "The Final Result is: 81\n"
     ]
    }
   ],
   "source": [
    "print(\"The Final Result is:\",56+25)"
   ]
  },
  {
   "cell_type": "code",
   "execution_count": 9,
   "id": "48d3ce7c",
   "metadata": {},
   "outputs": [
    {
     "name": "stdout",
     "output_type": "stream",
     "text": [
      "The Final Result is: 9.0\n"
     ]
    }
   ],
   "source": [
    "print(\"The Final Result is:\",(56+25)/9)\n"
   ]
  },
  {
   "cell_type": "code",
   "execution_count": 10,
   "id": "0f686acb",
   "metadata": {},
   "outputs": [
    {
     "data": {
      "text/plain": [
       "type"
      ]
     },
     "execution_count": 10,
     "metadata": {},
     "output_type": "execute_result"
    }
   ],
   "source": [
    "type"
   ]
  },
  {
   "cell_type": "code",
   "execution_count": 11,
   "id": "9e004012",
   "metadata": {},
   "outputs": [
    {
     "data": {
      "text/plain": [
       "str"
      ]
     },
     "execution_count": 11,
     "metadata": {},
     "output_type": "execute_result"
    }
   ],
   "source": [
    "type(\"This is a String\")"
   ]
  },
  {
   "cell_type": "code",
   "execution_count": 12,
   "id": "de902664",
   "metadata": {},
   "outputs": [
    {
     "data": {
      "text/plain": [
       "int"
      ]
     },
     "execution_count": 12,
     "metadata": {},
     "output_type": "execute_result"
    }
   ],
   "source": [
    "type(23)"
   ]
  },
  {
   "cell_type": "code",
   "execution_count": 13,
   "id": "835a0061",
   "metadata": {},
   "outputs": [
    {
     "data": {
      "text/plain": [
       "float"
      ]
     },
     "execution_count": 13,
     "metadata": {},
     "output_type": "execute_result"
    }
   ],
   "source": [
    "type(23.5)"
   ]
  },
  {
   "cell_type": "code",
   "execution_count": 14,
   "id": "c36d88fb",
   "metadata": {},
   "outputs": [
    {
     "data": {
      "text/plain": [
       "bool"
      ]
     },
     "execution_count": 14,
     "metadata": {},
     "output_type": "execute_result"
    }
   ],
   "source": [
    "type(True)"
   ]
  },
  {
   "cell_type": "code",
   "execution_count": 16,
   "id": "a4a820c6",
   "metadata": {},
   "outputs": [
    {
     "data": {
      "text/plain": [
       "33"
      ]
     },
     "execution_count": 16,
     "metadata": {},
     "output_type": "execute_result"
    }
   ],
   "source": [
    "len(\"Python is an Interpreted language\")"
   ]
  },
  {
   "cell_type": "code",
   "execution_count": 17,
   "id": "9b9c13f2",
   "metadata": {},
   "outputs": [
    {
     "data": {
      "text/plain": [
       "29"
      ]
     },
     "execution_count": 17,
     "metadata": {},
     "output_type": "execute_result"
    }
   ],
   "source": [
    "len(\"Python is an untyped language\")"
   ]
  },
  {
   "cell_type": "code",
   "execution_count": 20,
   "id": "30c109d4",
   "metadata": {},
   "outputs": [
    {
     "data": {
      "text/plain": [
       "-4"
      ]
     },
     "execution_count": 20,
     "metadata": {},
     "output_type": "execute_result"
    }
   ],
   "source": [
    "min(5.7,9,2.8,29,-4)"
   ]
  },
  {
   "cell_type": "code",
   "execution_count": 21,
   "id": "4428e226",
   "metadata": {},
   "outputs": [
    {
     "data": {
      "text/plain": [
       "45"
      ]
     },
     "execution_count": 21,
     "metadata": {},
     "output_type": "execute_result"
    }
   ],
   "source": [
    "max(5.7,9,2.8,-4,45)"
   ]
  },
  {
   "cell_type": "code",
   "execution_count": 25,
   "id": "a8040fcd",
   "metadata": {},
   "outputs": [
    {
     "data": {
      "text/plain": [
       "7"
      ]
     },
     "execution_count": 25,
     "metadata": {},
     "output_type": "execute_result"
    }
   ],
   "source": [
    "round(6.6)"
   ]
  },
  {
   "cell_type": "code",
   "execution_count": 27,
   "id": "fd11deb3",
   "metadata": {},
   "outputs": [
    {
     "data": {
      "text/plain": [
       "6"
      ]
     },
     "execution_count": 27,
     "metadata": {},
     "output_type": "execute_result"
    }
   ],
   "source": [
    "round(6.3)"
   ]
  },
  {
   "cell_type": "code",
   "execution_count": 28,
   "id": "36de02e8",
   "metadata": {},
   "outputs": [
    {
     "data": {
      "text/plain": [
       "-6"
      ]
     },
     "execution_count": 28,
     "metadata": {},
     "output_type": "execute_result"
    }
   ],
   "source": [
    "round(-5.6)"
   ]
  },
  {
   "cell_type": "code",
   "execution_count": 29,
   "id": "0a642e5e",
   "metadata": {},
   "outputs": [
    {
     "data": {
      "text/plain": [
       "4.5"
      ]
     },
     "execution_count": 29,
     "metadata": {},
     "output_type": "execute_result"
    }
   ],
   "source": [
    "abs(4.5)"
   ]
  },
  {
   "cell_type": "code",
   "execution_count": 30,
   "id": "74a7ee23",
   "metadata": {},
   "outputs": [
    {
     "data": {
      "text/plain": [
       "4.5"
      ]
     },
     "execution_count": 30,
     "metadata": {},
     "output_type": "execute_result"
    }
   ],
   "source": [
    "abs(-4.5)"
   ]
  },
  {
   "cell_type": "code",
   "execution_count": 32,
   "id": "4a244503",
   "metadata": {},
   "outputs": [
    {
     "data": {
      "text/plain": [
       "'Assign some value to the abs variable'"
      ]
     },
     "execution_count": 32,
     "metadata": {},
     "output_type": "execute_result"
    }
   ],
   "source": [
    "abs=\"Assign some value to the abs variable\"\n",
    "abs"
   ]
  },
  {
   "cell_type": "code",
   "execution_count": 33,
   "id": "b2cf60a5",
   "metadata": {},
   "outputs": [
    {
     "ename": "TypeError",
     "evalue": "'str' object is not callable",
     "output_type": "error",
     "traceback": [
      "\u001b[1;31m---------------------------------------------------------------------------\u001b[0m",
      "\u001b[1;31mTypeError\u001b[0m                                 Traceback (most recent call last)",
      "Input \u001b[1;32mIn [33]\u001b[0m, in \u001b[0;36m<cell line: 1>\u001b[1;34m()\u001b[0m\n\u001b[1;32m----> 1\u001b[0m \u001b[38;5;28;43mabs\u001b[39;49m\u001b[43m(\u001b[49m\u001b[38;5;241;43m-\u001b[39;49m\u001b[38;5;241;43m4.5\u001b[39;49m\u001b[43m)\u001b[49m\n",
      "\u001b[1;31mTypeError\u001b[0m: 'str' object is not callable"
     ]
    }
   ],
   "source": [
    "abs(-4.5)"
   ]
  },
  {
   "cell_type": "code",
   "execution_count": 35,
   "id": "199e50da",
   "metadata": {
    "scrolled": true
   },
   "outputs": [
    {
     "name": "stdout",
     "output_type": "stream",
     "text": [
      "red\n"
     ]
    }
   ],
   "source": [
    "favorite_color=input()"
   ]
  },
  {
   "cell_type": "code",
   "execution_count": 36,
   "id": "01968a50",
   "metadata": {},
   "outputs": [
    {
     "data": {
      "text/plain": [
       "'red'"
      ]
     },
     "execution_count": 36,
     "metadata": {},
     "output_type": "execute_result"
    }
   ],
   "source": [
    "favorite_color"
   ]
  },
  {
   "cell_type": "code",
   "execution_count": 37,
   "id": "897812f2",
   "metadata": {},
   "outputs": [
    {
     "name": "stdout",
     "output_type": "stream",
     "text": [
      "Please enter your favorite color:red\n"
     ]
    },
    {
     "data": {
      "text/plain": [
       "'red'"
      ]
     },
     "execution_count": 37,
     "metadata": {},
     "output_type": "execute_result"
    }
   ],
   "source": [
    "favorite_color=input(\"Please enter your favorite color:\")\n",
    "favorite_color"
   ]
  },
  {
   "cell_type": "code",
   "execution_count": 38,
   "id": "5b99a57a",
   "metadata": {},
   "outputs": [
    {
     "name": "stdout",
     "output_type": "stream",
     "text": [
      "How old are you?34\n"
     ]
    },
    {
     "data": {
      "text/plain": [
       "'34'"
      ]
     },
     "execution_count": 38,
     "metadata": {},
     "output_type": "execute_result"
    }
   ],
   "source": [
    "age=input(\"How old are you?\")\n",
    "age"
   ]
  },
  {
   "cell_type": "code",
   "execution_count": 39,
   "id": "e1ec9548",
   "metadata": {},
   "outputs": [
    {
     "data": {
      "text/plain": [
       "str"
      ]
     },
     "execution_count": 39,
     "metadata": {},
     "output_type": "execute_result"
    }
   ],
   "source": [
    "type(age)"
   ]
  },
  {
   "cell_type": "code",
   "execution_count": null,
   "id": "067140e3",
   "metadata": {},
   "outputs": [],
   "source": []
  },
  {
   "cell_type": "code",
   "execution_count": null,
   "id": "344f767f",
   "metadata": {},
   "outputs": [],
   "source": []
  },
  {
   "cell_type": "code",
   "execution_count": null,
   "id": "204e200e",
   "metadata": {},
   "outputs": [],
   "source": []
  },
  {
   "cell_type": "code",
   "execution_count": null,
   "id": "4108d4dd",
   "metadata": {},
   "outputs": [],
   "source": []
  },
  {
   "cell_type": "code",
   "execution_count": null,
   "id": "e79d81bc",
   "metadata": {},
   "outputs": [],
   "source": []
  },
  {
   "cell_type": "code",
   "execution_count": null,
   "id": "73c8befb",
   "metadata": {},
   "outputs": [],
   "source": []
  },
  {
   "cell_type": "code",
   "execution_count": null,
   "id": "6d6dc0a5",
   "metadata": {},
   "outputs": [],
   "source": []
  },
  {
   "cell_type": "code",
   "execution_count": null,
   "id": "27704d01",
   "metadata": {},
   "outputs": [],
   "source": []
  },
  {
   "cell_type": "code",
   "execution_count": null,
   "id": "b19e85c6",
   "metadata": {},
   "outputs": [],
   "source": []
  },
  {
   "cell_type": "code",
   "execution_count": null,
   "id": "8687f94d",
   "metadata": {},
   "outputs": [],
   "source": []
  },
  {
   "cell_type": "code",
   "execution_count": null,
   "id": "8edbe645",
   "metadata": {},
   "outputs": [],
   "source": []
  },
  {
   "cell_type": "code",
   "execution_count": null,
   "id": "7f6ba29e",
   "metadata": {},
   "outputs": [],
   "source": []
  },
  {
   "cell_type": "code",
   "execution_count": null,
   "id": "eb4fe485",
   "metadata": {},
   "outputs": [],
   "source": []
  }
 ],
 "metadata": {
  "kernelspec": {
   "display_name": "Python 3 (ipykernel)",
   "language": "python",
   "name": "python3"
  },
  "language_info": {
   "codemirror_mode": {
    "name": "ipython",
    "version": 3
   },
   "file_extension": ".py",
   "mimetype": "text/x-python",
   "name": "python",
   "nbconvert_exporter": "python",
   "pygments_lexer": "ipython3",
   "version": "3.9.12"
  }
 },
 "nbformat": 4,
 "nbformat_minor": 5
}
